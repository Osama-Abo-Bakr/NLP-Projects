{
 "cells": [
  {
   "cell_type": "markdown",
   "id": "29de47c4",
   "metadata": {},
   "source": [
    "# Main Library"
   ]
  },
  {
   "cell_type": "code",
   "execution_count": 2,
   "id": "faf698f0",
   "metadata": {},
   "outputs": [],
   "source": [
    "# Reading Data\n",
    "import pandas as pd\n",
    "import numpy as np\n",
    "import matplotlib.pyplot as plt\n",
    "import seaborn as sns\n",
    "\n",
    "# Preprocessing Data\n",
    "import string, nltk, re\n",
    "from nltk.corpus import stopwords\n",
    "from nltk.tokenize import word_tokenize\n",
    "from nltk.stem import WordNetLemmatizer\n",
    "from sklearn.model_selection import train_test_split\n",
    "from imblearn.over_sampling import SMOTE\n",
    "from tensorflow.keras.utils import to_categorical\n",
    "from tensorflow.keras.preprocessing.text import Tokenizer\n",
    "from tensorflow.keras.preprocessing.sequence import pad_sequences\n",
    "\n",
    "# Building Deep Learning Model\n",
    "import tensorflow as tf\n",
    "import tensorflow.keras as k\n",
    "from tensorflow.keras.layers import Dense, Embedding, GlobalAveragePooling1D\n",
    "\n",
    "# Building Machine Learning Model\n",
    "from sklearn.feature_extraction.text import TfidfVectorizer\n",
    "from sklearn.tree import DecisionTreeClassifier\n",
    "from sklearn.ensemble import AdaBoostClassifier\n",
    "from sklearn.ensemble import RandomForestClassifier\n",
    "from sklearn.ensemble import VotingClassifier\n",
    "import xgboost as xgb\n",
    "\n",
    "\n",
    "# Model Evalution\n",
    "from sklearn.metrics import roc_auc_score, confusion_matrix, precision_score, recall_score\n",
    "from sklearn.model_selection import cross_val_score"
   ]
  },
  {
   "cell_type": "markdown",
   "id": "1123a9ff",
   "metadata": {},
   "source": [
    "# Reading Data"
   ]
  },
  {
   "cell_type": "code",
   "execution_count": 3,
   "id": "677a2b05",
   "metadata": {},
   "outputs": [],
   "source": [
    "train = pd.read_csv(r\"D:\\Courses language programming\\Natural Language Processing\\Projects For NLP\\Data\\Natural Language Processing with Disaster Tweets\\train.csv\")\n",
    "test = pd.read_csv(r\"D:\\Courses language programming\\Natural Language Processing\\Projects For NLP\\Data\\Natural Language Processing with Disaster Tweets\\test.csv\")"
   ]
  },
  {
   "cell_type": "code",
   "execution_count": 4,
   "id": "06b014eb",
   "metadata": {},
   "outputs": [
    {
     "data": {
      "text/html": [
       "<div>\n",
       "<style scoped>\n",
       "    .dataframe tbody tr th:only-of-type {\n",
       "        vertical-align: middle;\n",
       "    }\n",
       "\n",
       "    .dataframe tbody tr th {\n",
       "        vertical-align: top;\n",
       "    }\n",
       "\n",
       "    .dataframe thead th {\n",
       "        text-align: right;\n",
       "    }\n",
       "</style>\n",
       "<table border=\"1\" class=\"dataframe\">\n",
       "  <thead>\n",
       "    <tr style=\"text-align: right;\">\n",
       "      <th></th>\n",
       "      <th>id</th>\n",
       "      <th>keyword</th>\n",
       "      <th>location</th>\n",
       "      <th>text</th>\n",
       "      <th>target</th>\n",
       "    </tr>\n",
       "  </thead>\n",
       "  <tbody>\n",
       "    <tr>\n",
       "      <th>0</th>\n",
       "      <td>1</td>\n",
       "      <td>NaN</td>\n",
       "      <td>NaN</td>\n",
       "      <td>Our Deeds are the Reason of this #earthquake M...</td>\n",
       "      <td>1</td>\n",
       "    </tr>\n",
       "    <tr>\n",
       "      <th>1</th>\n",
       "      <td>4</td>\n",
       "      <td>NaN</td>\n",
       "      <td>NaN</td>\n",
       "      <td>Forest fire near La Ronge Sask. Canada</td>\n",
       "      <td>1</td>\n",
       "    </tr>\n",
       "    <tr>\n",
       "      <th>2</th>\n",
       "      <td>5</td>\n",
       "      <td>NaN</td>\n",
       "      <td>NaN</td>\n",
       "      <td>All residents asked to 'shelter in place' are ...</td>\n",
       "      <td>1</td>\n",
       "    </tr>\n",
       "  </tbody>\n",
       "</table>\n",
       "</div>"
      ],
      "text/plain": [
       "   id keyword location                                               text  \\\n",
       "0   1     NaN      NaN  Our Deeds are the Reason of this #earthquake M...   \n",
       "1   4     NaN      NaN             Forest fire near La Ronge Sask. Canada   \n",
       "2   5     NaN      NaN  All residents asked to 'shelter in place' are ...   \n",
       "\n",
       "   target  \n",
       "0       1  \n",
       "1       1  \n",
       "2       1  "
      ]
     },
     "execution_count": 4,
     "metadata": {},
     "output_type": "execute_result"
    }
   ],
   "source": [
    "train.head(3)"
   ]
  },
  {
   "cell_type": "code",
   "execution_count": 5,
   "id": "c4c4b2f0",
   "metadata": {},
   "outputs": [
    {
     "data": {
      "text/html": [
       "<div>\n",
       "<style scoped>\n",
       "    .dataframe tbody tr th:only-of-type {\n",
       "        vertical-align: middle;\n",
       "    }\n",
       "\n",
       "    .dataframe tbody tr th {\n",
       "        vertical-align: top;\n",
       "    }\n",
       "\n",
       "    .dataframe thead th {\n",
       "        text-align: right;\n",
       "    }\n",
       "</style>\n",
       "<table border=\"1\" class=\"dataframe\">\n",
       "  <thead>\n",
       "    <tr style=\"text-align: right;\">\n",
       "      <th></th>\n",
       "      <th>id</th>\n",
       "      <th>keyword</th>\n",
       "      <th>location</th>\n",
       "      <th>text</th>\n",
       "    </tr>\n",
       "  </thead>\n",
       "  <tbody>\n",
       "    <tr>\n",
       "      <th>0</th>\n",
       "      <td>0</td>\n",
       "      <td>NaN</td>\n",
       "      <td>NaN</td>\n",
       "      <td>Just happened a terrible car crash</td>\n",
       "    </tr>\n",
       "    <tr>\n",
       "      <th>1</th>\n",
       "      <td>2</td>\n",
       "      <td>NaN</td>\n",
       "      <td>NaN</td>\n",
       "      <td>Heard about #earthquake is different cities, s...</td>\n",
       "    </tr>\n",
       "    <tr>\n",
       "      <th>2</th>\n",
       "      <td>3</td>\n",
       "      <td>NaN</td>\n",
       "      <td>NaN</td>\n",
       "      <td>there is a forest fire at spot pond, geese are...</td>\n",
       "    </tr>\n",
       "  </tbody>\n",
       "</table>\n",
       "</div>"
      ],
      "text/plain": [
       "   id keyword location                                               text\n",
       "0   0     NaN      NaN                 Just happened a terrible car crash\n",
       "1   2     NaN      NaN  Heard about #earthquake is different cities, s...\n",
       "2   3     NaN      NaN  there is a forest fire at spot pond, geese are..."
      ]
     },
     "execution_count": 5,
     "metadata": {},
     "output_type": "execute_result"
    }
   ],
   "source": [
    "test.head(3)"
   ]
  },
  {
   "cell_type": "markdown",
   "id": "602bc17c",
   "metadata": {},
   "source": [
    "# Data-Analysis  &  Preprocessing"
   ]
  },
  {
   "cell_type": "code",
   "execution_count": 6,
   "id": "83b18e34",
   "metadata": {},
   "outputs": [
    {
     "data": {
      "text/plain": [
       "id             0\n",
       "keyword       61\n",
       "location    2533\n",
       "text           0\n",
       "target         0\n",
       "dtype: int64"
      ]
     },
     "execution_count": 6,
     "metadata": {},
     "output_type": "execute_result"
    }
   ],
   "source": [
    "train.isnull().sum()"
   ]
  },
  {
   "cell_type": "code",
   "execution_count": 7,
   "id": "90c4a5a2",
   "metadata": {},
   "outputs": [
    {
     "data": {
      "text/plain": [
       "id             0\n",
       "keyword       26\n",
       "location    1105\n",
       "text           0\n",
       "dtype: int64"
      ]
     },
     "execution_count": 7,
     "metadata": {},
     "output_type": "execute_result"
    }
   ],
   "source": [
    "test.isnull().sum()"
   ]
  },
  {
   "cell_type": "code",
   "execution_count": 8,
   "id": "cbdb397f",
   "metadata": {},
   "outputs": [
    {
     "name": "stdout",
     "output_type": "stream",
     "text": [
      "<class 'pandas.core.frame.DataFrame'>\n",
      "RangeIndex: 7613 entries, 0 to 7612\n",
      "Data columns (total 5 columns):\n",
      " #   Column    Non-Null Count  Dtype \n",
      "---  ------    --------------  ----- \n",
      " 0   id        7613 non-null   int64 \n",
      " 1   keyword   7552 non-null   object\n",
      " 2   location  5080 non-null   object\n",
      " 3   text      7613 non-null   object\n",
      " 4   target    7613 non-null   int64 \n",
      "dtypes: int64(2), object(3)\n",
      "memory usage: 297.5+ KB\n"
     ]
    }
   ],
   "source": [
    "train.info()"
   ]
  },
  {
   "cell_type": "code",
   "execution_count": 9,
   "id": "f3807520",
   "metadata": {},
   "outputs": [
    {
     "data": {
      "image/png": "[encoded data removed]",
      "text/plain": [
       "<Figure size 640x480 with 1 Axes>"
      ]
     },
     "metadata": {},
     "output_type": "display_data"
    }
   ],
   "source": [
    "sns.countplot(x=train[\"target\"]);"
   ]
  },
  {
   "cell_type": "code",
   "execution_count": 10,
   "id": "056dd5a1",
   "metadata": {},
   "outputs": [
    {
     "data": {
      "text/html": [
       "<div>\n",
       "<style scoped>\n",
       "    .dataframe tbody tr th:only-of-type {\n",
       "        vertical-align: middle;\n",
       "    }\n",
       "\n",
       "    .dataframe tbody tr th {\n",
       "        vertical-align: top;\n",
       "    }\n",
       "\n",
       "    .dataframe thead th {\n",
       "        text-align: right;\n",
       "    }\n",
       "</style>\n",
       "<table border=\"1\" class=\"dataframe\">\n",
       "  <thead>\n",
       "    <tr style=\"text-align: right;\">\n",
       "      <th></th>\n",
       "      <th>id</th>\n",
       "      <th>target</th>\n",
       "    </tr>\n",
       "  </thead>\n",
       "  <tbody>\n",
       "    <tr>\n",
       "      <th>count</th>\n",
       "      <td>7613.000000</td>\n",
       "      <td>7613.00000</td>\n",
       "    </tr>\n",
       "    <tr>\n",
       "      <th>mean</th>\n",
       "      <td>5441.934848</td>\n",
       "      <td>0.42966</td>\n",
       "    </tr>\n",
       "    <tr>\n",
       "      <th>std</th>\n",
       "      <td>3137.116090</td>\n",
       "      <td>0.49506</td>\n",
       "    </tr>\n",
       "    <tr>\n",
       "      <th>min</th>\n",
       "      <td>1.000000</td>\n",
       "      <td>0.00000</td>\n",
       "    </tr>\n",
       "    <tr>\n",
       "      <th>25%</th>\n",
       "      <td>2734.000000</td>\n",
       "      <td>0.00000</td>\n",
       "    </tr>\n",
       "    <tr>\n",
       "      <th>50%</th>\n",
       "      <td>5408.000000</td>\n",
       "      <td>0.00000</td>\n",
       "    </tr>\n",
       "    <tr>\n",
       "      <th>75%</th>\n",
       "      <td>8146.000000</td>\n",
       "      <td>1.00000</td>\n",
       "    </tr>\n",
       "    <tr>\n",
       "      <th>max</th>\n",
       "      <td>10873.000000</td>\n",
       "      <td>1.00000</td>\n",
       "    </tr>\n",
       "  </tbody>\n",
       "</table>\n",
       "</div>"
      ],
      "text/plain": [
       "                 id      target\n",
       "count   7613.000000  7613.00000\n",
       "mean    5441.934848     0.42966\n",
       "std     3137.116090     0.49506\n",
       "min        1.000000     0.00000\n",
       "25%     2734.000000     0.00000\n",
       "50%     5408.000000     0.00000\n",
       "75%     8146.000000     1.00000\n",
       "max    10873.000000     1.00000"
      ]
     },
     "execution_count": 10,
     "metadata": {},
     "output_type": "execute_result"
    }
   ],
   "source": [
    "train.describe()"
   ]
  },
  {
   "cell_type": "markdown",
   "id": "738e109d",
   "metadata": {},
   "source": [
    "## Data-Analysis ==> Drop Some Columns"
   ]
  },
  {
   "cell_type": "code",
   "execution_count": 11,
   "id": "dba65fee",
   "metadata": {},
   "outputs": [],
   "source": [
    "def drop_col(data):\n",
    "    columns = [\"id\", \"keyword\", \"location\"]\n",
    "    for col in columns:\n",
    "        data.drop(columns=col, axis=1, inplace=True)\n",
    "    return data\n",
    "\n",
    "train = drop_col(train)\n",
    "test = drop_col(test)"
   ]
  },
  {
   "cell_type": "code",
   "execution_count": 12,
   "id": "c9348124",
   "metadata": {},
   "outputs": [
    {
     "data": {
      "text/html": [
       "<div>\n",
       "<style scoped>\n",
       "    .dataframe tbody tr th:only-of-type {\n",
       "        vertical-align: middle;\n",
       "    }\n",
       "\n",
       "    .dataframe tbody tr th {\n",
       "        vertical-align: top;\n",
       "    }\n",
       "\n",
       "    .dataframe thead th {\n",
       "        text-align: right;\n",
       "    }\n",
       "</style>\n",
       "<table border=\"1\" class=\"dataframe\">\n",
       "  <thead>\n",
       "    <tr style=\"text-align: right;\">\n",
       "      <th></th>\n",
       "      <th>text</th>\n",
       "      <th>target</th>\n",
       "    </tr>\n",
       "  </thead>\n",
       "  <tbody>\n",
       "    <tr>\n",
       "      <th>0</th>\n",
       "      <td>Our Deeds are the Reason of this #earthquake M...</td>\n",
       "      <td>1</td>\n",
       "    </tr>\n",
       "    <tr>\n",
       "      <th>1</th>\n",
       "      <td>Forest fire near La Ronge Sask. Canada</td>\n",
       "      <td>1</td>\n",
       "    </tr>\n",
       "    <tr>\n",
       "      <th>2</th>\n",
       "      <td>All residents asked to 'shelter in place' are ...</td>\n",
       "      <td>1</td>\n",
       "    </tr>\n",
       "  </tbody>\n",
       "</table>\n",
       "</div>"
      ],
      "text/plain": [
       "                                                text  target\n",
       "0  Our Deeds are the Reason of this #earthquake M...       1\n",
       "1             Forest fire near La Ronge Sask. Canada       1\n",
       "2  All residents asked to 'shelter in place' are ...       1"
      ]
     },
     "execution_count": 12,
     "metadata": {},
     "output_type": "execute_result"
    }
   ],
   "source": [
    "train.head(3)"
   ]
  },
  {
   "cell_type": "code",
   "execution_count": 13,
   "id": "63e21326",
   "metadata": {},
   "outputs": [
    {
     "data": {
      "text/html": [
       "<div>\n",
       "<style scoped>\n",
       "    .dataframe tbody tr th:only-of-type {\n",
       "        vertical-align: middle;\n",
       "    }\n",
       "\n",
       "    .dataframe tbody tr th {\n",
       "        vertical-align: top;\n",
       "    }\n",
       "\n",
       "    .dataframe thead th {\n",
       "        text-align: right;\n",
       "    }\n",
       "</style>\n",
       "<table border=\"1\" class=\"dataframe\">\n",
       "  <thead>\n",
       "    <tr style=\"text-align: right;\">\n",
       "      <th></th>\n",
       "      <th>text</th>\n",
       "    </tr>\n",
       "  </thead>\n",
       "  <tbody>\n",
       "    <tr>\n",
       "      <th>0</th>\n",
       "      <td>Just happened a terrible car crash</td>\n",
       "    </tr>\n",
       "    <tr>\n",
       "      <th>1</th>\n",
       "      <td>Heard about #earthquake is different cities, s...</td>\n",
       "    </tr>\n",
       "    <tr>\n",
       "      <th>2</th>\n",
       "      <td>there is a forest fire at spot pond, geese are...</td>\n",
       "    </tr>\n",
       "  </tbody>\n",
       "</table>\n",
       "</div>"
      ],
      "text/plain": [
       "                                                text\n",
       "0                 Just happened a terrible car crash\n",
       "1  Heard about #earthquake is different cities, s...\n",
       "2  there is a forest fire at spot pond, geese are..."
      ]
     },
     "execution_count": 13,
     "metadata": {},
     "output_type": "execute_result"
    }
   ],
   "source": [
    "test.head(3)"
   ]
  },
  {
   "cell_type": "code",
   "execution_count": 14,
   "id": "b3490310",
   "metadata": {},
   "outputs": [],
   "source": [
    "train[\"len\"] = train[\"text\"].apply(len)\n",
    "test[\"len\"] = test[\"text\"].apply(len)"
   ]
  },
  {
   "cell_type": "code",
   "execution_count": 15,
   "id": "45824414",
   "metadata": {},
   "outputs": [
    {
     "data": {
      "text/html": [
       "<div>\n",
       "<style scoped>\n",
       "    .dataframe tbody tr th:only-of-type {\n",
       "        vertical-align: middle;\n",
       "    }\n",
       "\n",
       "    .dataframe tbody tr th {\n",
       "        vertical-align: top;\n",
       "    }\n",
       "\n",
       "    .dataframe thead th {\n",
       "        text-align: right;\n",
       "    }\n",
       "</style>\n",
       "<table border=\"1\" class=\"dataframe\">\n",
       "  <thead>\n",
       "    <tr style=\"text-align: right;\">\n",
       "      <th></th>\n",
       "      <th>text</th>\n",
       "      <th>target</th>\n",
       "      <th>len</th>\n",
       "    </tr>\n",
       "  </thead>\n",
       "  <tbody>\n",
       "    <tr>\n",
       "      <th>0</th>\n",
       "      <td>Our Deeds are the Reason of this #earthquake M...</td>\n",
       "      <td>1</td>\n",
       "      <td>69</td>\n",
       "    </tr>\n",
       "    <tr>\n",
       "      <th>1</th>\n",
       "      <td>Forest fire near La Ronge Sask. Canada</td>\n",
       "      <td>1</td>\n",
       "      <td>38</td>\n",
       "    </tr>\n",
       "    <tr>\n",
       "      <th>2</th>\n",
       "      <td>All residents asked to 'shelter in place' are ...</td>\n",
       "      <td>1</td>\n",
       "      <td>133</td>\n",
       "    </tr>\n",
       "    <tr>\n",
       "      <th>3</th>\n",
       "      <td>13,000 people receive #wildfires evacuation or...</td>\n",
       "      <td>1</td>\n",
       "      <td>65</td>\n",
       "    </tr>\n",
       "    <tr>\n",
       "      <th>4</th>\n",
       "      <td>Just got sent this photo from Ruby #Alaska as ...</td>\n",
       "      <td>1</td>\n",
       "      <td>88</td>\n",
       "    </tr>\n",
       "  </tbody>\n",
       "</table>\n",
       "</div>"
      ],
      "text/plain": [
       "                                                text  target  len\n",
       "0  Our Deeds are the Reason of this #earthquake M...       1   69\n",
       "1             Forest fire near La Ronge Sask. Canada       1   38\n",
       "2  All residents asked to 'shelter in place' are ...       1  133\n",
       "3  13,000 people receive #wildfires evacuation or...       1   65\n",
       "4  Just got sent this photo from Ruby #Alaska as ...       1   88"
      ]
     },
     "execution_count": 15,
     "metadata": {},
     "output_type": "execute_result"
    }
   ],
   "source": [
    "train.head(5)"
   ]
  },
  {
   "cell_type": "code",
   "execution_count": 16,
   "id": "643f72d0",
   "metadata": {},
   "outputs": [
    {
     "data": {
      "text/html": [
       "<div>\n",
       "<style scoped>\n",
       "    .dataframe tbody tr th:only-of-type {\n",
       "        vertical-align: middle;\n",
       "    }\n",
       "\n",
       "    .dataframe tbody tr th {\n",
       "        vertical-align: top;\n",
       "    }\n",
       "\n",
       "    .dataframe thead th {\n",
       "        text-align: right;\n",
       "    }\n",
       "</style>\n",
       "<table border=\"1\" class=\"dataframe\">\n",
       "  <thead>\n",
       "    <tr style=\"text-align: right;\">\n",
       "      <th></th>\n",
       "      <th>target</th>\n",
       "      <th>len</th>\n",
       "    </tr>\n",
       "  </thead>\n",
       "  <tbody>\n",
       "    <tr>\n",
       "      <th>count</th>\n",
       "      <td>7613.00000</td>\n",
       "      <td>7613.000000</td>\n",
       "    </tr>\n",
       "    <tr>\n",
       "      <th>mean</th>\n",
       "      <td>0.42966</td>\n",
       "      <td>101.037436</td>\n",
       "    </tr>\n",
       "    <tr>\n",
       "      <th>std</th>\n",
       "      <td>0.49506</td>\n",
       "      <td>33.781325</td>\n",
       "    </tr>\n",
       "    <tr>\n",
       "      <th>min</th>\n",
       "      <td>0.00000</td>\n",
       "      <td>7.000000</td>\n",
       "    </tr>\n",
       "    <tr>\n",
       "      <th>25%</th>\n",
       "      <td>0.00000</td>\n",
       "      <td>78.000000</td>\n",
       "    </tr>\n",
       "    <tr>\n",
       "      <th>50%</th>\n",
       "      <td>0.00000</td>\n",
       "      <td>107.000000</td>\n",
       "    </tr>\n",
       "    <tr>\n",
       "      <th>75%</th>\n",
       "      <td>1.00000</td>\n",
       "      <td>133.000000</td>\n",
       "    </tr>\n",
       "    <tr>\n",
       "      <th>max</th>\n",
       "      <td>1.00000</td>\n",
       "      <td>157.000000</td>\n",
       "    </tr>\n",
       "  </tbody>\n",
       "</table>\n",
       "</div>"
      ],
      "text/plain": [
       "           target          len\n",
       "count  7613.00000  7613.000000\n",
       "mean      0.42966   101.037436\n",
       "std       0.49506    33.781325\n",
       "min       0.00000     7.000000\n",
       "25%       0.00000    78.000000\n",
       "50%       0.00000   107.000000\n",
       "75%       1.00000   133.000000\n",
       "max       1.00000   157.000000"
      ]
     },
     "execution_count": 16,
     "metadata": {},
     "output_type": "execute_result"
    }
   ],
   "source": [
    "train.describe()"
   ]
  },
  {
   "cell_type": "markdown",
   "id": "bb8899a3",
   "metadata": {},
   "source": [
    "# Processing in Text"
   ]
  },
  {
   "cell_type": "markdown",
   "id": "db85046a",
   "metadata": {},
   "source": [
    "## 1 - Remove Punctuation\n",
    "## 2 - Remove Stop Words\n",
    "## 3 - Make Lemmatization"
   ]
  },
  {
   "cell_type": "code",
   "execution_count": 17,
   "id": "10c12a1a",
   "metadata": {},
   "outputs": [],
   "source": [
    "punc = list(string.punctuation)\n",
    "stop_word = stopwords.words(\"english\")\n",
    "Lemmatize = WordNetLemmatizer()"
   ]
  },
  {
   "cell_type": "code",
   "execution_count": 18,
   "id": "870cc7da",
   "metadata": {},
   "outputs": [],
   "source": [
    "def transform_text(text):\n",
    "    text = text.lower()\n",
    "    new_text = \" \".join([Lemmatize.lemmatize(word) for word in word_tokenize(text) if ((word not in punc) and (word not in stop_word))])\n",
    "    \n",
    "    new_text = re.sub(\"[^a-z]\", \" \", new_text)\n",
    "    \n",
    "    return new_text"
   ]
  },
  {
   "cell_type": "code",
   "execution_count": 19,
   "id": "4ce85f2e",
   "metadata": {},
   "outputs": [],
   "source": [
    "train[\"Cleaning-text\"] = train[\"text\"].apply(transform_text)\n",
    "test[\"Cleaning-text\"] = test[\"text\"].apply(transform_text)"
   ]
  },
  {
   "cell_type": "code",
   "execution_count": 20,
   "id": "7baf49ed",
   "metadata": {},
   "outputs": [
    {
     "data": {
      "text/html": [
       "<div>\n",
       "<style scoped>\n",
       "    .dataframe tbody tr th:only-of-type {\n",
       "        vertical-align: middle;\n",
       "    }\n",
       "\n",
       "    .dataframe tbody tr th {\n",
       "        vertical-align: top;\n",
       "    }\n",
       "\n",
       "    .dataframe thead th {\n",
       "        text-align: right;\n",
       "    }\n",
       "</style>\n",
       "<table border=\"1\" class=\"dataframe\">\n",
       "  <thead>\n",
       "    <tr style=\"text-align: right;\">\n",
       "      <th></th>\n",
       "      <th>text</th>\n",
       "      <th>target</th>\n",
       "      <th>len</th>\n",
       "      <th>Cleaning-text</th>\n",
       "    </tr>\n",
       "  </thead>\n",
       "  <tbody>\n",
       "    <tr>\n",
       "      <th>0</th>\n",
       "      <td>Our Deeds are the Reason of this #earthquake M...</td>\n",
       "      <td>1</td>\n",
       "      <td>69</td>\n",
       "      <td>deed reason earthquake may allah forgive u</td>\n",
       "    </tr>\n",
       "    <tr>\n",
       "      <th>1</th>\n",
       "      <td>Forest fire near La Ronge Sask. Canada</td>\n",
       "      <td>1</td>\n",
       "      <td>38</td>\n",
       "      <td>forest fire near la ronge sask canada</td>\n",
       "    </tr>\n",
       "    <tr>\n",
       "      <th>2</th>\n",
       "      <td>All residents asked to 'shelter in place' are ...</td>\n",
       "      <td>1</td>\n",
       "      <td>133</td>\n",
       "      <td>resident asked  shelter place notified officer...</td>\n",
       "    </tr>\n",
       "    <tr>\n",
       "      <th>3</th>\n",
       "      <td>13,000 people receive #wildfires evacuation or...</td>\n",
       "      <td>1</td>\n",
       "      <td>65</td>\n",
       "      <td>people receive wildfire evacuation orde...</td>\n",
       "    </tr>\n",
       "    <tr>\n",
       "      <th>4</th>\n",
       "      <td>Just got sent this photo from Ruby #Alaska as ...</td>\n",
       "      <td>1</td>\n",
       "      <td>88</td>\n",
       "      <td>got sent photo ruby alaska smoke wildfire pour...</td>\n",
       "    </tr>\n",
       "    <tr>\n",
       "      <th>5</th>\n",
       "      <td>#RockyFire Update =&gt; California Hwy. 20 closed...</td>\n",
       "      <td>1</td>\n",
       "      <td>110</td>\n",
       "      <td>rockyfire update california hwy    closed dire...</td>\n",
       "    </tr>\n",
       "    <tr>\n",
       "      <th>6</th>\n",
       "      <td>#flood #disaster Heavy rain causes flash flood...</td>\n",
       "      <td>1</td>\n",
       "      <td>95</td>\n",
       "      <td>flood disaster heavy rain cause flash flooding...</td>\n",
       "    </tr>\n",
       "    <tr>\n",
       "      <th>7</th>\n",
       "      <td>I'm on top of the hill and I can see a fire in...</td>\n",
       "      <td>1</td>\n",
       "      <td>59</td>\n",
       "      <td>m top hill see fire wood</td>\n",
       "    </tr>\n",
       "    <tr>\n",
       "      <th>8</th>\n",
       "      <td>There's an emergency evacuation happening now ...</td>\n",
       "      <td>1</td>\n",
       "      <td>79</td>\n",
       "      <td>s emergency evacuation happening building acr...</td>\n",
       "    </tr>\n",
       "    <tr>\n",
       "      <th>9</th>\n",
       "      <td>I'm afraid that the tornado is coming to our a...</td>\n",
       "      <td>1</td>\n",
       "      <td>52</td>\n",
       "      <td>m afraid tornado coming area</td>\n",
       "    </tr>\n",
       "  </tbody>\n",
       "</table>\n",
       "</div>"
      ],
      "text/plain": [
       "                                                text  target  len  \\\n",
       "0  Our Deeds are the Reason of this #earthquake M...       1   69   \n",
       "1             Forest fire near La Ronge Sask. Canada       1   38   \n",
       "2  All residents asked to 'shelter in place' are ...       1  133   \n",
       "3  13,000 people receive #wildfires evacuation or...       1   65   \n",
       "4  Just got sent this photo from Ruby #Alaska as ...       1   88   \n",
       "5  #RockyFire Update => California Hwy. 20 closed...       1  110   \n",
       "6  #flood #disaster Heavy rain causes flash flood...       1   95   \n",
       "7  I'm on top of the hill and I can see a fire in...       1   59   \n",
       "8  There's an emergency evacuation happening now ...       1   79   \n",
       "9  I'm afraid that the tornado is coming to our a...       1   52   \n",
       "\n",
       "                                       Cleaning-text  \n",
       "0         deed reason earthquake may allah forgive u  \n",
       "1              forest fire near la ronge sask canada  \n",
       "2  resident asked  shelter place notified officer...  \n",
       "3         people receive wildfire evacuation orde...  \n",
       "4  got sent photo ruby alaska smoke wildfire pour...  \n",
       "5  rockyfire update california hwy    closed dire...  \n",
       "6  flood disaster heavy rain cause flash flooding...  \n",
       "7                       m top hill see fire wood      \n",
       "8   s emergency evacuation happening building acr...  \n",
       "9                   m afraid tornado coming area      "
      ]
     },
     "execution_count": 20,
     "metadata": {},
     "output_type": "execute_result"
    }
   ],
   "source": [
    "train.head(10)"
   ]
  },
  {
   "cell_type": "code",
   "execution_count": 21,
   "id": "deb179f8",
   "metadata": {},
   "outputs": [],
   "source": [
    "train[\"len_after_clean\"] = train[\"Cleaning-text\"].apply(len)\n",
    "test[\"len_after_clean\"] = test[\"Cleaning-text\"].apply(len)"
   ]
  },
  {
   "cell_type": "code",
   "execution_count": 22,
   "id": "4b17a58b",
   "metadata": {},
   "outputs": [
    {
     "data": {
      "text/html": [
       "<div>\n",
       "<style scoped>\n",
       "    .dataframe tbody tr th:only-of-type {\n",
       "        vertical-align: middle;\n",
       "    }\n",
       "\n",
       "    .dataframe tbody tr th {\n",
       "        vertical-align: top;\n",
       "    }\n",
       "\n",
       "    .dataframe thead th {\n",
       "        text-align: right;\n",
       "    }\n",
       "</style>\n",
       "<table border=\"1\" class=\"dataframe\">\n",
       "  <thead>\n",
       "    <tr style=\"text-align: right;\">\n",
       "      <th></th>\n",
       "      <th>text</th>\n",
       "      <th>target</th>\n",
       "      <th>len</th>\n",
       "      <th>Cleaning-text</th>\n",
       "      <th>len_after_clean</th>\n",
       "    </tr>\n",
       "  </thead>\n",
       "  <tbody>\n",
       "    <tr>\n",
       "      <th>0</th>\n",
       "      <td>Our Deeds are the Reason of this #earthquake M...</td>\n",
       "      <td>1</td>\n",
       "      <td>69</td>\n",
       "      <td>deed reason earthquake may allah forgive u</td>\n",
       "      <td>42</td>\n",
       "    </tr>\n",
       "    <tr>\n",
       "      <th>1</th>\n",
       "      <td>Forest fire near La Ronge Sask. Canada</td>\n",
       "      <td>1</td>\n",
       "      <td>38</td>\n",
       "      <td>forest fire near la ronge sask canada</td>\n",
       "      <td>37</td>\n",
       "    </tr>\n",
       "    <tr>\n",
       "      <th>2</th>\n",
       "      <td>All residents asked to 'shelter in place' are ...</td>\n",
       "      <td>1</td>\n",
       "      <td>133</td>\n",
       "      <td>resident asked  shelter place notified officer...</td>\n",
       "      <td>86</td>\n",
       "    </tr>\n",
       "    <tr>\n",
       "      <th>3</th>\n",
       "      <td>13,000 people receive #wildfires evacuation or...</td>\n",
       "      <td>1</td>\n",
       "      <td>65</td>\n",
       "      <td>people receive wildfire evacuation orde...</td>\n",
       "      <td>58</td>\n",
       "    </tr>\n",
       "    <tr>\n",
       "      <th>4</th>\n",
       "      <td>Just got sent this photo from Ruby #Alaska as ...</td>\n",
       "      <td>1</td>\n",
       "      <td>88</td>\n",
       "      <td>got sent photo ruby alaska smoke wildfire pour...</td>\n",
       "      <td>54</td>\n",
       "    </tr>\n",
       "  </tbody>\n",
       "</table>\n",
       "</div>"
      ],
      "text/plain": [
       "                                                text  target  len  \\\n",
       "0  Our Deeds are the Reason of this #earthquake M...       1   69   \n",
       "1             Forest fire near La Ronge Sask. Canada       1   38   \n",
       "2  All residents asked to 'shelter in place' are ...       1  133   \n",
       "3  13,000 people receive #wildfires evacuation or...       1   65   \n",
       "4  Just got sent this photo from Ruby #Alaska as ...       1   88   \n",
       "\n",
       "                                       Cleaning-text  len_after_clean  \n",
       "0         deed reason earthquake may allah forgive u               42  \n",
       "1              forest fire near la ronge sask canada               37  \n",
       "2  resident asked  shelter place notified officer...               86  \n",
       "3         people receive wildfire evacuation orde...               58  \n",
       "4  got sent photo ruby alaska smoke wildfire pour...               54  "
      ]
     },
     "execution_count": 22,
     "metadata": {},
     "output_type": "execute_result"
    }
   ],
   "source": [
    "train.head(5)"
   ]
  },
  {
   "cell_type": "markdown",
   "id": "7a21c81b",
   "metadata": {},
   "source": [
    "## Drop Extra Columns -- Text, Len"
   ]
  },
  {
   "cell_type": "code",
   "execution_count": 23,
   "id": "b0fa7a80",
   "metadata": {},
   "outputs": [],
   "source": [
    "def drop_extra(data):\n",
    "    columns = [\"text\", \"len\"]\n",
    "    for col in columns:\n",
    "        data.drop(columns=col, axis=1, inplace=True)\n",
    "    return data\n",
    "\n",
    "train = drop_extra(train)\n",
    "test = drop_extra(test)"
   ]
  },
  {
   "cell_type": "code",
   "execution_count": 24,
   "id": "a2131232",
   "metadata": {},
   "outputs": [
    {
     "data": {
      "text/html": [
       "<div>\n",
       "<style scoped>\n",
       "    .dataframe tbody tr th:only-of-type {\n",
       "        vertical-align: middle;\n",
       "    }\n",
       "\n",
       "    .dataframe tbody tr th {\n",
       "        vertical-align: top;\n",
       "    }\n",
       "\n",
       "    .dataframe thead th {\n",
       "        text-align: right;\n",
       "    }\n",
       "</style>\n",
       "<table border=\"1\" class=\"dataframe\">\n",
       "  <thead>\n",
       "    <tr style=\"text-align: right;\">\n",
       "      <th></th>\n",
       "      <th>target</th>\n",
       "      <th>Cleaning-text</th>\n",
       "      <th>len_after_clean</th>\n",
       "    </tr>\n",
       "  </thead>\n",
       "  <tbody>\n",
       "    <tr>\n",
       "      <th>0</th>\n",
       "      <td>1</td>\n",
       "      <td>deed reason earthquake may allah forgive u</td>\n",
       "      <td>42</td>\n",
       "    </tr>\n",
       "    <tr>\n",
       "      <th>1</th>\n",
       "      <td>1</td>\n",
       "      <td>forest fire near la ronge sask canada</td>\n",
       "      <td>37</td>\n",
       "    </tr>\n",
       "    <tr>\n",
       "      <th>2</th>\n",
       "      <td>1</td>\n",
       "      <td>resident asked  shelter place notified officer...</td>\n",
       "      <td>86</td>\n",
       "    </tr>\n",
       "    <tr>\n",
       "      <th>3</th>\n",
       "      <td>1</td>\n",
       "      <td>people receive wildfire evacuation orde...</td>\n",
       "      <td>58</td>\n",
       "    </tr>\n",
       "    <tr>\n",
       "      <th>4</th>\n",
       "      <td>1</td>\n",
       "      <td>got sent photo ruby alaska smoke wildfire pour...</td>\n",
       "      <td>54</td>\n",
       "    </tr>\n",
       "    <tr>\n",
       "      <th>5</th>\n",
       "      <td>1</td>\n",
       "      <td>rockyfire update california hwy    closed dire...</td>\n",
       "      <td>88</td>\n",
       "    </tr>\n",
       "    <tr>\n",
       "      <th>6</th>\n",
       "      <td>1</td>\n",
       "      <td>flood disaster heavy rain cause flash flooding...</td>\n",
       "      <td>82</td>\n",
       "    </tr>\n",
       "    <tr>\n",
       "      <th>7</th>\n",
       "      <td>1</td>\n",
       "      <td>m top hill see fire wood</td>\n",
       "      <td>29</td>\n",
       "    </tr>\n",
       "    <tr>\n",
       "      <th>8</th>\n",
       "      <td>1</td>\n",
       "      <td>s emergency evacuation happening building acr...</td>\n",
       "      <td>56</td>\n",
       "    </tr>\n",
       "    <tr>\n",
       "      <th>9</th>\n",
       "      <td>1</td>\n",
       "      <td>m afraid tornado coming area</td>\n",
       "      <td>33</td>\n",
       "    </tr>\n",
       "  </tbody>\n",
       "</table>\n",
       "</div>"
      ],
      "text/plain": [
       "   target                                      Cleaning-text  len_after_clean\n",
       "0       1         deed reason earthquake may allah forgive u               42\n",
       "1       1              forest fire near la ronge sask canada               37\n",
       "2       1  resident asked  shelter place notified officer...               86\n",
       "3       1         people receive wildfire evacuation orde...               58\n",
       "4       1  got sent photo ruby alaska smoke wildfire pour...               54\n",
       "5       1  rockyfire update california hwy    closed dire...               88\n",
       "6       1  flood disaster heavy rain cause flash flooding...               82\n",
       "7       1                       m top hill see fire wood                   29\n",
       "8       1   s emergency evacuation happening building acr...               56\n",
       "9       1                   m afraid tornado coming area                   33"
      ]
     },
     "execution_count": 24,
     "metadata": {},
     "output_type": "execute_result"
    }
   ],
   "source": [
    "train.head(10)"
   ]
  },
  {
   "cell_type": "code",
   "execution_count": 25,
   "id": "2854681d",
   "metadata": {},
   "outputs": [
    {
     "data": {
      "text/html": [
       "<div>\n",
       "<style scoped>\n",
       "    .dataframe tbody tr th:only-of-type {\n",
       "        vertical-align: middle;\n",
       "    }\n",
       "\n",
       "    .dataframe tbody tr th {\n",
       "        vertical-align: top;\n",
       "    }\n",
       "\n",
       "    .dataframe thead th {\n",
       "        text-align: right;\n",
       "    }\n",
       "</style>\n",
       "<table border=\"1\" class=\"dataframe\">\n",
       "  <thead>\n",
       "    <tr style=\"text-align: right;\">\n",
       "      <th></th>\n",
       "      <th>Cleaning-text</th>\n",
       "      <th>len_after_clean</th>\n",
       "    </tr>\n",
       "  </thead>\n",
       "  <tbody>\n",
       "    <tr>\n",
       "      <th>0</th>\n",
       "      <td>happened terrible car crash</td>\n",
       "      <td>27</td>\n",
       "    </tr>\n",
       "    <tr>\n",
       "      <th>1</th>\n",
       "      <td>heard earthquake different city stay safe ever...</td>\n",
       "      <td>50</td>\n",
       "    </tr>\n",
       "    <tr>\n",
       "      <th>2</th>\n",
       "      <td>forest fire spot pond goose fleeing across str...</td>\n",
       "      <td>54</td>\n",
       "    </tr>\n",
       "    <tr>\n",
       "      <th>3</th>\n",
       "      <td>apocalypse lighting spokane wildfire</td>\n",
       "      <td>36</td>\n",
       "    </tr>\n",
       "    <tr>\n",
       "      <th>4</th>\n",
       "      <td>typhoon soudelor kill    china taiwan</td>\n",
       "      <td>37</td>\n",
       "    </tr>\n",
       "  </tbody>\n",
       "</table>\n",
       "</div>"
      ],
      "text/plain": [
       "                                       Cleaning-text  len_after_clean\n",
       "0                        happened terrible car crash               27\n",
       "1  heard earthquake different city stay safe ever...               50\n",
       "2  forest fire spot pond goose fleeing across str...               54\n",
       "3               apocalypse lighting spokane wildfire               36\n",
       "4              typhoon soudelor kill    china taiwan               37"
      ]
     },
     "execution_count": 25,
     "metadata": {},
     "output_type": "execute_result"
    }
   ],
   "source": [
    "test.head(5)"
   ]
  },
  {
   "cell_type": "markdown",
   "id": "2f45e599",
   "metadata": {},
   "source": [
    "# Splitting Data to X, Y"
   ]
  },
  {
   "cell_type": "code",
   "execution_count": 26,
   "id": "330d89e1",
   "metadata": {},
   "outputs": [],
   "source": [
    "X = train[\"Cleaning-text\"]\n",
    "Y = train[\"target\"]"
   ]
  },
  {
   "cell_type": "markdown",
   "id": "3820c1c3",
   "metadata": {},
   "source": [
    "# #------------------------------------------------------------------------------------------------------#"
   ]
  },
  {
   "cell_type": "markdown",
   "id": "6c1e0a1f",
   "metadata": {},
   "source": [
    "# Transform Text To Number"
   ]
  },
  {
   "cell_type": "markdown",
   "id": "e239f62e",
   "metadata": {},
   "source": [
    "## 1 - Make Tokenozation To DL"
   ]
  },
  {
   "cell_type": "code",
   "execution_count": 27,
   "id": "a5d04250",
   "metadata": {},
   "outputs": [],
   "source": [
    "# Tokenization - Training Data\n",
    "\n",
    "tokenize = Tokenizer(oov_token=\"<OOV>\")\n",
    "tokenize.fit_on_texts(X)\n",
    "word_index = tokenize.word_index\n",
    "\n",
    "data_sequance = tokenize.texts_to_sequences(X)\n",
    "\n",
    "# Padding_Sequances\n",
    "data_padding = pad_sequences(data_sequance, maxlen=150, padding=\"pre\", truncating=\"pre\")"
   ]
  },
  {
   "cell_type": "code",
   "execution_count": 28,
   "id": "95465ceb",
   "metadata": {},
   "outputs": [
    {
     "data": {
      "text/plain": [
       "array([[    0,     0,     0, ...,  1472,  4383,    11],\n",
       "       [    0,     0,     0, ...,  6482,  6483,  1115],\n",
       "       [    0,     0,     0, ...,   494,   348,   994],\n",
       "       ...,\n",
       "       [    0,     0,     0, ...,     3,  6451,  6452],\n",
       "       [    0,     0,     0, ...,    41,  1908,   102],\n",
       "       [    0,     0,     0, ..., 20963, 20964,    22]])"
      ]
     },
     "execution_count": 28,
     "metadata": {},
     "output_type": "execute_result"
    }
   ],
   "source": [
    "data_padding"
   ]
  },
  {
   "cell_type": "code",
   "execution_count": 29,
   "id": "c09d6f50",
   "metadata": {},
   "outputs": [
    {
     "data": {
      "text/plain": [
       "((7613, 150),\n",
       " 0    4342\n",
       " 1    3271\n",
       " Name: target, dtype: int64)"
      ]
     },
     "execution_count": 29,
     "metadata": {},
     "output_type": "execute_result"
    }
   ],
   "source": [
    "data_padding.shape, Y.value_counts()"
   ]
  },
  {
   "cell_type": "code",
   "execution_count": 30,
   "id": "ed987b4a",
   "metadata": {},
   "outputs": [
    {
     "data": {
      "text/plain": [
       "(30, 20965)"
      ]
     },
     "execution_count": 30,
     "metadata": {},
     "output_type": "execute_result"
    }
   ],
   "source": [
    "input_length = max(len(seq) for seq in data_sequance)\n",
    "\n",
    "vocabulary_size = len(word_index) + 1\n",
    "\n",
    "input_length, vocabulary_size"
   ]
  },
  {
   "cell_type": "markdown",
   "id": "7502b85b",
   "metadata": {},
   "source": [
    "# Make Over Sampling"
   ]
  },
  {
   "cell_type": "code",
   "execution_count": null,
   "id": "0a15c162",
   "metadata": {},
   "outputs": [],
   "source": [
    "smote = SMOTE()\n",
    "new_data_padding, new_y = smote.fit_resample(data_padding, Y)"
   ]
  },
  {
   "cell_type": "code",
   "execution_count": null,
   "id": "28bf2846",
   "metadata": {},
   "outputs": [],
   "source": [
    "new_y.value_counts()"
   ]
  },
  {
   "cell_type": "code",
   "execution_count": null,
   "id": "0ffdc9af",
   "metadata": {},
   "outputs": [],
   "source": [
    "Y.value_counts()"
   ]
  },
  {
   "cell_type": "markdown",
   "id": "f27f1f7e",
   "metadata": {},
   "source": [
    "#  Transform Label To OneHotEncoder 0 --> [0, 1]"
   ]
  },
  {
   "cell_type": "code",
   "execution_count": 31,
   "id": "548977b6",
   "metadata": {},
   "outputs": [
    {
     "data": {
      "text/plain": [
       "array([[0., 1.],\n",
       "       [0., 1.],\n",
       "       [0., 1.],\n",
       "       [0., 1.],\n",
       "       [0., 1.]], dtype=float32)"
      ]
     },
     "execution_count": 31,
     "metadata": {},
     "output_type": "execute_result"
    }
   ],
   "source": [
    "# label  = to_categorical(new_y, 2)\n",
    "label  = to_categorical(Y, 2)\n",
    "\n",
    "label[0:5]"
   ]
  },
  {
   "cell_type": "code",
   "execution_count": 32,
   "id": "bd823ade",
   "metadata": {},
   "outputs": [
    {
     "data": {
      "text/plain": [
       "(30, 20965)"
      ]
     },
     "execution_count": 32,
     "metadata": {},
     "output_type": "execute_result"
    }
   ],
   "source": [
    "input_length = max(len(seq) for seq in data_sequance)\n",
    "\n",
    "vocabulary_size = len(word_index) + 1\n",
    "\n",
    "input_length, vocabulary_size"
   ]
  },
  {
   "cell_type": "code",
   "execution_count": 33,
   "id": "2b519a84",
   "metadata": {},
   "outputs": [],
   "source": [
    "# # Tokenization - Testing Data\n",
    "\n",
    "# tokenize_test = Tokenizer(oov_token=\"<OOV>\")\n",
    "# tokenize.fit_on_texts(test[\"Cleaning-text\"])\n",
    "# word_index = tokenize.word_index\n",
    "\n",
    "# data_sequance = tokenize.texts_to_sequences(test[\"Cleaning-text\"])\n",
    "\n",
    "# # Padding_Sequances\n",
    "# data_padding = pad_sequences(data_sequance, maxlen=139, padding=\"pre\", truncating=\"pre\")"
   ]
  },
  {
   "cell_type": "markdown",
   "id": "bad4a418",
   "metadata": {},
   "source": [
    "# %--------------------------------------------------------------------------------------------%"
   ]
  },
  {
   "cell_type": "markdown",
   "id": "e97b4961",
   "metadata": {},
   "source": [
    "## 2 - Make TfidVectorizer"
   ]
  },
  {
   "cell_type": "code",
   "execution_count": 34,
   "id": "ae01b0e9",
   "metadata": {},
   "outputs": [],
   "source": [
    "TFID = TfidfVectorizer(stop_words=\"english\", max_df=0.8, ngram_range=(1, 2))\n",
    "new_TFID = TFID.fit_transform(X)\n",
    "test_x = TFID.transform(test[\"Cleaning-text\"])"
   ]
  },
  {
   "cell_type": "markdown",
   "id": "1093d811",
   "metadata": {},
   "source": [
    "# Splitting Data To Training & Testing"
   ]
  },
  {
   "cell_type": "code",
   "execution_count": 35,
   "id": "ba1dd65f",
   "metadata": {},
   "outputs": [],
   "source": [
    "x_train, x_test, y_train, y_test = train_test_split(new_TFID, Y, train_size=0.7, random_state=42)"
   ]
  },
  {
   "cell_type": "code",
   "execution_count": 36,
   "id": "b455f50e",
   "metadata": {},
   "outputs": [],
   "source": [
    "# x_train_dl, x_test_dl, y_train_dl, y_test_dl = train_test_split(new_data_padding, label, train_size=0.7, random_state=42)\n",
    "\n",
    "x_train_dl, x_test_dl, y_train_dl, y_test_dl = train_test_split(data_padding, label, train_size=0.8)"
   ]
  },
  {
   "cell_type": "markdown",
   "id": "98a9a69f",
   "metadata": {},
   "source": [
    "# Building Machine Learning Model"
   ]
  },
  {
   "cell_type": "markdown",
   "id": "25ad8a80",
   "metadata": {},
   "source": [
    "## 1 - XGBoostClassifier ==> ML"
   ]
  },
  {
   "cell_type": "code",
   "execution_count": 38,
   "id": "9d2ba4fa",
   "metadata": {},
   "outputs": [
    {
     "name": "stdout",
     "output_type": "stream",
     "text": [
      "The predict Score Train is ==> 0.8697691874648151\n",
      "%----------------------------------------------------------%\n",
      "The predict Score Test is ==> 0.7683887915936952\n"
     ]
    }
   ],
   "source": [
    "model_xgb = xgb.XGBClassifier()\n",
    "                             \n",
    "model_xgb.fit(x_train, y_train)\n",
    "\n",
    "print(f\"The predict Score Train is ==> {model_xgb.score(x_train, y_train)}\")\n",
    "print(\"%----------------------------------------------------------%\")\n",
    "print(f\"The predict Score Test is ==> {model_xgb.score(x_test, y_test)}\")"
   ]
  },
  {
   "cell_type": "markdown",
   "id": "ca41cae8",
   "metadata": {},
   "source": [
    "## 1 - XGBoostClassifier ==> DL"
   ]
  },
  {
   "cell_type": "code",
   "execution_count": 39,
   "id": "7ff60f10",
   "metadata": {},
   "outputs": [
    {
     "name": "stdout",
     "output_type": "stream",
     "text": [
      "The predict Score Train is ==> 0.951888341543514\n",
      "%----------------------------------------------------------%\n",
      "The predict Score Test is ==> 0.6671043992120814\n"
     ]
    }
   ],
   "source": [
    "model_xgb_DL = xgb.XGBClassifier()\n",
    "                             \n",
    "model_xgb_DL.fit(x_train_dl, y_train_dl)\n",
    "\n",
    "print(f\"The predict Score Train is ==> {model_xgb_DL.score(x_train_dl, y_train_dl)}\")\n",
    "print(\"%----------------------------------------------------------%\")\n",
    "print(f\"The predict Score Test is ==> {model_xgb_DL.score(x_test_dl, y_test_dl)}\")"
   ]
  },
  {
   "cell_type": "markdown",
   "id": "bf0ebb49",
   "metadata": {},
   "source": [
    "# 2 - AdaBoostClassifier"
   ]
  },
  {
   "cell_type": "code",
   "execution_count": null,
   "id": "6bee294b",
   "metadata": {},
   "outputs": [],
   "source": [
    "Adaboost = AdaBoostClassifier(estimator=DecisionTreeClassifier(max_depth=100, \n",
    "                                                               min_samples_split=5,\n",
    "                                                               min_samples_leaf=6),\n",
    "                              n_estimators=200,\n",
    "                              learning_rate=0.2)\n",
    "\n",
    "\n",
    "Adaboost.fit(x_train, y_train)\n",
    "\n",
    "print(f\"The predict Score Train is ==> {Adaboost.score(x_train, y_train)}\")\n",
    "print(\"%----------------------------------------------------------%\")\n",
    "print(f\"The predict Score Test is ==> {Adaboost.score(x_test, y_test)}\")"
   ]
  },
  {
   "cell_type": "markdown",
   "id": "0471f140",
   "metadata": {},
   "source": [
    "# 3 - RandomForest ==> ML"
   ]
  },
  {
   "cell_type": "code",
   "execution_count": 40,
   "id": "560da01c",
   "metadata": {},
   "outputs": [
    {
     "name": "stdout",
     "output_type": "stream",
     "text": [
      "The predict Score Train is ==> 0.9968099080502909\n",
      "%----------------------------------------------------------%\n",
      "The predict Score Test is ==> 0.7653239929947461\n"
     ]
    }
   ],
   "source": [
    "model_rd = RandomForestClassifier()\n",
    "model_rd.fit(x_train, y_train)\n",
    "\n",
    "print(f\"The predict Score Train is ==> {model_rd.score(x_train, y_train)}\")\n",
    "print(\"%----------------------------------------------------------%\")\n",
    "print(f\"The predict Score Test is ==> {model_rd.score(x_test, y_test)}\")"
   ]
  },
  {
   "cell_type": "markdown",
   "id": "60e6689b",
   "metadata": {},
   "source": [
    "# 3 - RandomForest ==> DL"
   ]
  },
  {
   "cell_type": "code",
   "execution_count": 41,
   "id": "611c9312",
   "metadata": {},
   "outputs": [
    {
     "name": "stdout",
     "output_type": "stream",
     "text": [
      "The predict Score Train is ==> 0.99688013136289\n",
      "%----------------------------------------------------------%\n",
      "The predict Score Test is ==> 0.6651346027577151\n"
     ]
    }
   ],
   "source": [
    "model_rd_DL = RandomForestClassifier()\n",
    "model_rd_DL.fit(x_train_dl, y_train_dl)\n",
    "\n",
    "print(f\"The predict Score Train is ==> {model_rd_DL.score(x_train_dl, y_train_dl)}\")\n",
    "print(\"%----------------------------------------------------------%\")\n",
    "print(f\"The predict Score Test is ==> {model_rd_DL.score(x_test_dl, y_test_dl)}\")"
   ]
  },
  {
   "cell_type": "markdown",
   "id": "32bbc5fc",
   "metadata": {},
   "source": [
    "#  Building Deep Learning Model"
   ]
  },
  {
   "cell_type": "markdown",
   "id": "080f2e1d",
   "metadata": {},
   "source": [
    "## Embeding Layers"
   ]
  },
  {
   "cell_type": "code",
   "execution_count": 42,
   "id": "f8b62e43",
   "metadata": {},
   "outputs": [
    {
     "name": "stdout",
     "output_type": "stream",
     "text": [
      "Model: \"sequential\"\n",
      "_________________________________________________________________\n",
      " Layer (type)                Output Shape              Param #   \n",
      "=================================================================\n",
      " embedding (Embedding)       (None, 150, 100)          2096500   \n",
      "                                                                 \n",
      " global_average_pooling1d (  (None, 100)               0         \n",
      " GlobalAveragePooling1D)                                         \n",
      "                                                                 \n",
      " dense (Dense)               (None, 24)                2424      \n",
      "                                                                 \n",
      " dense_1 (Dense)             (None, 2)                 50        \n",
      "                                                                 \n",
      "=================================================================\n",
      "Total params: 2098974 (8.01 MB)\n",
      "Trainable params: 2098974 (8.01 MB)\n",
      "Non-trainable params: 0 (0.00 Byte)\n",
      "_________________________________________________________________\n"
     ]
    }
   ],
   "source": [
    "model = tf.keras.models.Sequential(\n",
    "    [\n",
    "        Embedding(vocabulary_size, 100, input_length=150),\n",
    "        GlobalAveragePooling1D(),\n",
    "        Dense(24, activation=\"relu\"),\n",
    "        Dense(2, activation=\"softmax\")\n",
    "    ])\n",
    "model.compile(optimizer=\"adam\", loss=k.losses.CategoricalCrossentropy(), metrics=[\"accuracy\"])\n",
    "model.summary()"
   ]
  },
  {
   "cell_type": "code",
   "execution_count": 43,
   "id": "5147ec91",
   "metadata": {
    "scrolled": true
   },
   "outputs": [
    {
     "name": "stdout",
     "output_type": "stream",
     "text": [
      "Epoch 1/15\n",
      "191/191 - 5s - loss: 0.6786 - accuracy: 0.5698 - val_loss: 0.6686 - val_accuracy: 0.5673 - 5s/epoch - 24ms/step\n",
      "Epoch 2/15\n",
      "191/191 - 4s - loss: 0.6280 - accuracy: 0.6404 - val_loss: 0.5906 - val_accuracy: 0.7597 - 4s/epoch - 21ms/step\n",
      "Epoch 3/15\n",
      "191/191 - 4s - loss: 0.4747 - accuracy: 0.8117 - val_loss: 0.4749 - val_accuracy: 0.8011 - 4s/epoch - 20ms/step\n",
      "Epoch 4/15\n",
      "191/191 - 4s - loss: 0.3253 - accuracy: 0.8821 - val_loss: 0.4615 - val_accuracy: 0.8056 - 4s/epoch - 21ms/step\n",
      "Epoch 5/15\n",
      "191/191 - 4s - loss: 0.2424 - accuracy: 0.9105 - val_loss: 0.4904 - val_accuracy: 0.7708 - 4s/epoch - 22ms/step\n",
      "Epoch 6/15\n",
      "191/191 - 4s - loss: 0.1817 - accuracy: 0.9381 - val_loss: 0.4761 - val_accuracy: 0.7925 - 4s/epoch - 21ms/step\n",
      "Epoch 7/15\n",
      "191/191 - 4s - loss: 0.1428 - accuracy: 0.9535 - val_loss: 0.5552 - val_accuracy: 0.7984 - 4s/epoch - 21ms/step\n",
      "Epoch 8/15\n",
      "191/191 - 4s - loss: 0.1166 - accuracy: 0.9609 - val_loss: 0.5228 - val_accuracy: 0.7938 - 4s/epoch - 20ms/step\n",
      "Epoch 9/15\n",
      "191/191 - 4s - loss: 0.0923 - accuracy: 0.9711 - val_loss: 0.5660 - val_accuracy: 0.7735 - 4s/epoch - 20ms/step\n",
      "Epoch 10/15\n",
      "191/191 - 4s - loss: 0.0709 - accuracy: 0.9798 - val_loss: 0.5945 - val_accuracy: 0.7945 - 4s/epoch - 20ms/step\n",
      "Epoch 11/15\n",
      "191/191 - 4s - loss: 0.0598 - accuracy: 0.9833 - val_loss: 0.6155 - val_accuracy: 0.7702 - 4s/epoch - 21ms/step\n",
      "Epoch 12/15\n",
      "191/191 - 4s - loss: 0.0554 - accuracy: 0.9824 - val_loss: 0.6366 - val_accuracy: 0.7873 - 4s/epoch - 21ms/step\n",
      "Epoch 13/15\n",
      "191/191 - 4s - loss: 0.0417 - accuracy: 0.9883 - val_loss: 0.6717 - val_accuracy: 0.7669 - 4s/epoch - 20ms/step\n",
      "Epoch 14/15\n",
      "191/191 - 4s - loss: 0.0359 - accuracy: 0.9901 - val_loss: 0.7378 - val_accuracy: 0.7886 - 4s/epoch - 21ms/step\n",
      "Epoch 15/15\n",
      "191/191 - 4s - loss: 0.0339 - accuracy: 0.9908 - val_loss: 0.8175 - val_accuracy: 0.7873 - 4s/epoch - 21ms/step\n"
     ]
    }
   ],
   "source": [
    "history = model.fit(x_train_dl, y_train_dl, epochs=15, validation_data=(x_test_dl, y_test_dl), verbose=2)"
   ]
  },
  {
   "cell_type": "code",
   "execution_count": 44,
   "id": "bb3b5ab6",
   "metadata": {},
   "outputs": [
    {
     "data": {
      "image/png": "[encoded data removed]",
      "text/plain": [
       "<Figure size 640x480 with 1 Axes>"
      ]
     },
     "metadata": {},
     "output_type": "display_data"
    }
   ],
   "source": [
    "plt.plot(history.history[\"loss\"], label=\"Loss\")\n",
    "plt.plot(history.history[\"val_loss\"], label=\"Val_Loss\")\n",
    "\n",
    "plt.xlabel(\"Epochs\")\n",
    "plt.ylabel(\"Loss\")\n",
    "\n",
    "plt.title(\"Loss Vs Epochs\")\n",
    "\n",
    "plt.legend()\n",
    "plt.grid()"
   ]
  },
  {
   "cell_type": "code",
   "execution_count": 45,
   "id": "1b7fd545",
   "metadata": {},
   "outputs": [
    {
     "data": {
      "image/png": "[encoded data removed]",
      "text/plain": [
       "<Figure size 640x480 with 1 Axes>"
      ]
     },
     "metadata": {},
     "output_type": "display_data"
    }
   ],
   "source": [
    "plt.plot(history.history[\"accuracy\"], label=\"accuracy\")\n",
    "plt.plot(history.history[\"val_accuracy\"], label=\"val_accuracy\")\n",
    "\n",
    "plt.xlabel(\"Epochs\")\n",
    "plt.ylabel(\"Accuracy\")\n",
    "\n",
    "plt.title(\"Accuracy Vs Epochs\")\n",
    "\n",
    "plt.legend()\n",
    "plt.grid()"
   ]
  },
  {
   "cell_type": "markdown",
   "id": "33c7aa82",
   "metadata": {},
   "source": [
    "# Make Prediction To Testing File"
   ]
  },
  {
   "cell_type": "code",
   "execution_count": null,
   "id": "28676544",
   "metadata": {},
   "outputs": [],
   "source": [
    "test.head(5)"
   ]
  },
  {
   "cell_type": "code",
   "execution_count": 46,
   "id": "8e6cebbd",
   "metadata": {},
   "outputs": [],
   "source": [
    "# Tokenization - Testing Data\n",
    "data_sequance_test = tokenize.texts_to_sequences(test[\"Cleaning-text\"])\n",
    "\n",
    "# Padding_Sequances\n",
    "data_padding_test = pad_sequences(data_sequance_test, maxlen=150, padding=\"pre\", truncating=\"pre\")"
   ]
  },
  {
   "cell_type": "code",
   "execution_count": 48,
   "id": "3c06fc51",
   "metadata": {},
   "outputs": [
    {
     "name": "stdout",
     "output_type": "stream",
     "text": [
      "102/102 [==============================] - 0s 1ms/step\n"
     ]
    }
   ],
   "source": [
    "prediction = model.predict(data_padding_test)"
   ]
  },
  {
   "cell_type": "code",
   "execution_count": 49,
   "id": "cef49a34",
   "metadata": {},
   "outputs": [],
   "source": [
    "prediction = [np.argmax(pre) for pre in prediction]"
   ]
  },
  {
   "cell_type": "code",
   "execution_count": 50,
   "id": "1fdc49fc",
   "metadata": {},
   "outputs": [
    {
     "data": {
      "text/html": [
       "<div>\n",
       "<style scoped>\n",
       "    .dataframe tbody tr th:only-of-type {\n",
       "        vertical-align: middle;\n",
       "    }\n",
       "\n",
       "    .dataframe tbody tr th {\n",
       "        vertical-align: top;\n",
       "    }\n",
       "\n",
       "    .dataframe thead th {\n",
       "        text-align: right;\n",
       "    }\n",
       "</style>\n",
       "<table border=\"1\" class=\"dataframe\">\n",
       "  <thead>\n",
       "    <tr style=\"text-align: right;\">\n",
       "      <th></th>\n",
       "      <th>id</th>\n",
       "      <th>target</th>\n",
       "    </tr>\n",
       "  </thead>\n",
       "  <tbody>\n",
       "    <tr>\n",
       "      <th>0</th>\n",
       "      <td>0</td>\n",
       "      <td>0</td>\n",
       "    </tr>\n",
       "    <tr>\n",
       "      <th>1</th>\n",
       "      <td>2</td>\n",
       "      <td>0</td>\n",
       "    </tr>\n",
       "    <tr>\n",
       "      <th>2</th>\n",
       "      <td>3</td>\n",
       "      <td>0</td>\n",
       "    </tr>\n",
       "    <tr>\n",
       "      <th>3</th>\n",
       "      <td>9</td>\n",
       "      <td>0</td>\n",
       "    </tr>\n",
       "    <tr>\n",
       "      <th>4</th>\n",
       "      <td>11</td>\n",
       "      <td>0</td>\n",
       "    </tr>\n",
       "  </tbody>\n",
       "</table>\n",
       "</div>"
      ],
      "text/plain": [
       "   id  target\n",
       "0   0       0\n",
       "1   2       0\n",
       "2   3       0\n",
       "3   9       0\n",
       "4  11       0"
      ]
     },
     "execution_count": 50,
     "metadata": {},
     "output_type": "execute_result"
    }
   ],
   "source": [
    "submition = pd.read_csv(r\"D:\\Courses language programming\\Natural Language Processing\\Projects For NLP\\Data\\Natural Language Processing with Disaster Tweets\\sample_submission.csv\")\n",
    "submition.head(5)"
   ]
  },
  {
   "cell_type": "code",
   "execution_count": 51,
   "id": "48835f6e",
   "metadata": {},
   "outputs": [],
   "source": [
    "submition[\"target\"] = prediction"
   ]
  },
  {
   "cell_type": "code",
   "execution_count": 52,
   "id": "48d1d467",
   "metadata": {},
   "outputs": [
    {
     "data": {
      "text/html": [
       "<div>\n",
       "<style scoped>\n",
       "    .dataframe tbody tr th:only-of-type {\n",
       "        vertical-align: middle;\n",
       "    }\n",
       "\n",
       "    .dataframe tbody tr th {\n",
       "        vertical-align: top;\n",
       "    }\n",
       "\n",
       "    .dataframe thead th {\n",
       "        text-align: right;\n",
       "    }\n",
       "</style>\n",
       "<table border=\"1\" class=\"dataframe\">\n",
       "  <thead>\n",
       "    <tr style=\"text-align: right;\">\n",
       "      <th></th>\n",
       "      <th>id</th>\n",
       "      <th>target</th>\n",
       "    </tr>\n",
       "  </thead>\n",
       "  <tbody>\n",
       "    <tr>\n",
       "      <th>0</th>\n",
       "      <td>0</td>\n",
       "      <td>0</td>\n",
       "    </tr>\n",
       "    <tr>\n",
       "      <th>1</th>\n",
       "      <td>2</td>\n",
       "      <td>0</td>\n",
       "    </tr>\n",
       "    <tr>\n",
       "      <th>2</th>\n",
       "      <td>3</td>\n",
       "      <td>1</td>\n",
       "    </tr>\n",
       "    <tr>\n",
       "      <th>3</th>\n",
       "      <td>9</td>\n",
       "      <td>1</td>\n",
       "    </tr>\n",
       "    <tr>\n",
       "      <th>4</th>\n",
       "      <td>11</td>\n",
       "      <td>1</td>\n",
       "    </tr>\n",
       "  </tbody>\n",
       "</table>\n",
       "</div>"
      ],
      "text/plain": [
       "   id  target\n",
       "0   0       0\n",
       "1   2       0\n",
       "2   3       1\n",
       "3   9       1\n",
       "4  11       1"
      ]
     },
     "execution_count": 52,
     "metadata": {},
     "output_type": "execute_result"
    }
   ],
   "source": [
    "submition.head(5)"
   ]
  },
  {
   "cell_type": "code",
   "execution_count": 53,
   "id": "742e4a56",
   "metadata": {},
   "outputs": [],
   "source": [
    "submition.to_csv(r\"D:\\Courses language programming\\Natural Language Processing\\Projects For NLP\\Data\\Natural Language Processing with Disaster Tweets\\submission.csv\", index=False)"
   ]
  },
  {
   "cell_type": "code",
   "execution_count": null,
   "id": "3ab74d80",
   "metadata": {},
   "outputs": [],
   "source": []
  }
 ],
 "metadata": {
  "kernelspec": {
   "display_name": "Python 3 (ipykernel)",
   "language": "python",
   "name": "python3"
  },
  "language_info": {
   "codemirror_mode": {
    "name": "ipython",
    "version": 3
   },
   "file_extension": ".py",
   "mimetype": "text/x-python",
   "name": "python",
   "nbconvert_exporter": "python",
   "pygments_lexer": "ipython3",
   "version": "3.10.9"
  }
 },
 "nbformat": 4,
 "nbformat_minor": 5
}
