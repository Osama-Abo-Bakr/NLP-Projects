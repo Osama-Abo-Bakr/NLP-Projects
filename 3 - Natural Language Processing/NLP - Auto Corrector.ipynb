{
 "cells": [
  {
   "cell_type": "markdown",
   "id": "5d9387d8",
   "metadata": {},
   "source": [
    "# Main Library"
   ]
  },
  {
   "cell_type": "code",
   "execution_count": 71,
   "id": "819662f5",
   "metadata": {},
   "outputs": [],
   "source": [
    "from collections import Counter\n",
    "import numpy as np\n",
    "import os, string, re"
   ]
  },
  {
   "cell_type": "markdown",
   "id": "a55f33fa",
   "metadata": {},
   "source": [
    "# Reading Data"
   ]
  },
  {
   "cell_type": "code",
   "execution_count": 96,
   "id": "d5fe7ce6",
   "metadata": {},
   "outputs": [],
   "source": [
    "data = open(r'D:\\Courses language programming\\9_Big Projects\\24 - Auto Corrector\\context.txt', 'r').read()\n",
    "data = data.lower()\n",
    "words = re.findall('\\w+', data)\n",
    "\n",
    "word_set = set(words)\n",
    "dic_words = Counter(words)"
   ]
  },
  {
   "cell_type": "markdown",
   "id": "40bbb348",
   "metadata": {},
   "source": [
    "# Word's Probability"
   ]
  },
  {
   "cell_type": "code",
   "execution_count": 158,
   "id": "72ddfc5c",
   "metadata": {},
   "outputs": [],
   "source": [
    "def prob_cal(dic):\n",
    "    probs = {}\n",
    "    total = sum(dic.values())\n",
    "    for key in dic.keys():\n",
    "        probs[key] = dic[key] / total\n",
    "        \n",
    "    return probs \n",
    "\n",
    "probs = prob_cal(dic_words)"
   ]
  },
  {
   "cell_type": "code",
   "execution_count": 159,
   "id": "8bf5aadc",
   "metadata": {},
   "outputs": [],
   "source": [
    "def split_letters(word):\n",
    "    split_letter = []\n",
    "    for i in range(len(word)):\n",
    "        split_letter.append((word[:i],word[i:]))\n",
    "    return split_letter\n",
    "\n",
    "\n",
    "def Delete_letter(word):\n",
    "    delete_letter = []\n",
    "    split_letter = split_letters(word)\n",
    "    \n",
    "    for p1, p2 in split_letter:\n",
    "        delete_letter.append(p1+p2[1:])\n",
    "        \n",
    "        \n",
    "    return delete_letter"
   ]
  },
  {
   "cell_type": "code",
   "execution_count": 160,
   "id": "ff2c8a2d",
   "metadata": {},
   "outputs": [],
   "source": [
    "def switch(word):\n",
    "    split_letter = split_letters(word)\n",
    "    switch_list = []\n",
    "    \n",
    "    for p1, p2 in split_letter:\n",
    "        if len(p2) >= 2:\n",
    "            switch_list.append(p1+p2[1]+p2[0]+p2[2:])\n",
    "            \n",
    "    return switch_list\n",
    "\n",
    "def replace(word):\n",
    "    split_list = split_letters(word)\n",
    "    replace_list = []\n",
    "    \n",
    "    alphabet = string.ascii_lowercase\n",
    "    for p1, p2 in split_list:\n",
    "        for l in alphabet:\n",
    "            if len(p2) > 1: \n",
    "                replace_list.append(p1+l+p2[1:])\n",
    "                \n",
    "    return replace_list\n",
    "\n",
    "def insert(word):\n",
    "    split_list = split_letters(word)\n",
    "    insert_list = []\n",
    "    \n",
    "    alphabet = string.ascii_lowercase\n",
    "    for p1, p2 in split_list:\n",
    "        for l in alphabet:\n",
    "            if len(p2) > 0: insert_list.append(p1+l+p2)\n",
    "                \n",
    "    return insert_list"
   ]
  },
  {
   "cell_type": "code",
   "execution_count": 161,
   "id": "e0a9fe5d",
   "metadata": {},
   "outputs": [],
   "source": [
    "def word_collection(word, allow_switch=True):\n",
    "    collection = set()\n",
    "    collection.update(Delete_letter(word))\n",
    "    if allow_switch:\n",
    "        collection.update(switch(word))\n",
    "        \n",
    "    collection.update(replace(word))\n",
    "    collection.update(insert(word))\n",
    "    \n",
    "    return collection"
   ]
  },
  {
   "cell_type": "code",
   "execution_count": 162,
   "id": "edc1a489",
   "metadata": {},
   "outputs": [],
   "source": [
    "def get_collections(word, number=2):\n",
    "    total_collections = word_collection(word)\n",
    "    for i in range(number-1):\n",
    "        for w in list(total_collections):\n",
    "            total_collections.update(word_collection(w))\n",
    "            \n",
    "    return total_collections"
   ]
  },
  {
   "cell_type": "code",
   "execution_count": 163,
   "id": "735e43b9",
   "metadata": {},
   "outputs": [],
   "source": [
    "def corrections(word, dictionary, probabilities):\n",
    "    result = []\n",
    "    if word in dictionary:\n",
    "        return word\n",
    "    else:\n",
    "        suggested_word = get_collections(word).intersection(dictionary)\n",
    "        optimal_suggestions = [{'w': word, 'p': probabilities[word]} for word in suggested_word]\n",
    "        optimal_suggestions = sorted(optimal_suggestions, key=lambda x: x['p'])\n",
    "        optimal_suggestions = optimal_suggestions[-4:]\n",
    "        \n",
    "        for word in optimal_suggestions:\n",
    "            result.append(word['w'])\n",
    "            \n",
    "        return result"
   ]
  },
  {
   "cell_type": "code",
   "execution_count": 166,
   "id": "a0c64d32",
   "metadata": {
    "scrolled": true
   },
   "outputs": [],
   "source": [
    "# corrections('opeq',  word_set, probs)"
   ]
  },
  {
   "cell_type": "code",
   "execution_count": 172,
   "id": "194b1f81",
   "metadata": {},
   "outputs": [
    {
     "name": "stdout",
     "output_type": "stream",
     "text": [
      "Please Enter THe Word: lameq\n",
      "The Best Suggestion in the word lameq is -->  ['late', 'name', 'came', 'same']\n"
     ]
    }
   ],
   "source": [
    "my_word = input('Please Enter THe Word: ')\n",
    "\n",
    "\n",
    "print(f'The Best Suggestion in the word {my_word} is --> ', corrections(my_word,  word_set, probs))"
   ]
  },
  {
   "cell_type": "code",
   "execution_count": null,
   "id": "b0407fdb",
   "metadata": {},
   "outputs": [],
   "source": []
  }
 ],
 "metadata": {
  "kernelspec": {
   "display_name": "Python 3 (ipykernel)",
   "language": "python",
   "name": "python3"
  },
  "language_info": {
   "codemirror_mode": {
    "name": "ipython",
    "version": 3
   },
   "file_extension": ".py",
   "mimetype": "text/x-python",
   "name": "python",
   "nbconvert_exporter": "python",
   "pygments_lexer": "ipython3",
   "version": "3.10.9"
  }
 },
 "nbformat": 4,
 "nbformat_minor": 5
}
