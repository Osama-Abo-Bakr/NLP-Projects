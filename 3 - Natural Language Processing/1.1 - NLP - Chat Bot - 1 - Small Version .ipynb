{
 "cells": [
  {
   "cell_type": "markdown",
   "id": "af5e8796",
   "metadata": {},
   "source": [
    "# Main Library"
   ]
  },
  {
   "cell_type": "code",
   "execution_count": 1,
   "id": "2f6cff11",
   "metadata": {},
   "outputs": [],
   "source": [
    "# Reading Data\n",
    "import json\n",
    "import numpy as np\n",
    "import string, random\n",
    "\n",
    "# Data Preprocessing\n",
    "import nltk\n",
    "from nltk.tokenize import word_tokenize\n",
    "from nltk.stem import WordNetLemmatizer\n",
    "\n",
    "# Building Model\n",
    "from tensorflow.keras.models import Sequential\n",
    "from tensorflow.keras.layers import Dense, Dropout\n",
    "from tensorflow.keras.optimizers import Adam, SGD\n",
    "from keras.models import load_model\n",
    "\n",
    "# Dowmload Model\n",
    "import pickle"
   ]
  },
  {
   "cell_type": "markdown",
   "id": "906c02a2",
   "metadata": {},
   "source": [
    "# Loading Models"
   ]
  },
  {
   "cell_type": "code",
   "execution_count": 2,
   "id": "ecc582e7",
   "metadata": {},
   "outputs": [],
   "source": [
    "words = pickle.load(open(r\"D:\\Courses language programming\\9_Big Projects\\6 - Building ChatBot\\ChatBot - V1\\\\words.pkl\", \"rb\"))\n",
    "classes = pickle.load(open(r\"D:\\Courses language programming\\9_Big Projects\\6 - Building ChatBot\\ChatBot - V1\\\\classes.pkl\", \"rb\"))\n",
    "corpus = pickle.load(open(r\"D:\\Courses language programming\\9_Big Projects\\6 - Building ChatBot\\ChatBot - V1\\\\corpus.pkl\", \"rb\"))\n",
    "\n",
    "model = load_model(r\"D:\\Courses language programming\\9_Big Projects\\6 - Building ChatBot\\ChatBot - V1\\\\model_chat_bot.h5\")"
   ]
  },
  {
   "cell_type": "markdown",
   "id": "0a17caab",
   "metadata": {},
   "source": [
    "# Reading Data"
   ]
  },
  {
   "cell_type": "code",
   "execution_count": null,
   "id": "dc140082",
   "metadata": {},
   "outputs": [],
   "source": [
    "file = open(r\"D:\\Courses language programming\\9_Big Projects\\6 - Building ChatBot\\ChatBot - V1\\data.json\").read()\n",
    "data = json.loads(file)\n",
    "\n",
    "ignore = [\"?\", \"!\"]\n",
    "\n",
    "word_Response = []\n",
    "classes = []\n",
    "corpus = []\n",
    "\n",
    "lemma = WordNetLemmatizer()\n",
    "\n",
    "for record in data[\"info\"]:\n",
    "    for req in record[\"requests\"]:\n",
    "        word =  word_tokenize(req)\n",
    "        word = [lemma.lemmatize(w.lower()) for w in word if (w not in ignore)]\n",
    "        word_Response.extend(word)\n",
    "        t = record[\"title\"]\n",
    "        corpus.append((word, t))\n",
    "        if t not in classes: classes.append(t)\n",
    "            \n",
    "\n",
    "words = list(set(word_Response))\n",
    "words = sorted(words)\n",
    "classes = sorted(classes)\n",
    "\n",
    "pickle.dump(words, open(r\"D:\\Courses language programming\\9_Big Projects\\6 - Building ChatBot\\ChatBot - V1\\\\words.pkl\", \"wb\"))\n",
    "pickle.dump(classes, open(r\"D:\\Courses language programming\\9_Big Projects\\6 - Building ChatBot\\ChatBot - V1\\\\classes.pkl\", \"wb\"))\n",
    "pickle.dump(corpus, open(r\"D:\\Courses language programming\\9_Big Projects\\6 - Building ChatBot\\ChatBot - V1\\\\corpus.pkl\", \"wb\"))"
   ]
  },
  {
   "cell_type": "markdown",
   "id": "4cc82497",
   "metadata": {},
   "source": [
    "# Digital Representation"
   ]
  },
  {
   "cell_type": "code",
   "execution_count": null,
   "id": "b889d262",
   "metadata": {},
   "outputs": [],
   "source": [
    "data_set = []\n",
    "\n",
    "for request, class_r in corpus:\n",
    "    input_vec = [0] * len(words)\n",
    "    output_vec = [0] * len(classes)\n",
    "    \n",
    "    for w in request:\n",
    "        input_vec[words.index(w)] = 1\n",
    "        \n",
    "    output_vec[classes.index(class_r)] = 1\n",
    "    \n",
    "    data_set.append([input_vec, output_vec])\n",
    "\n",
    "random.shuffle(data_set)\n",
    "data_set = np.array(data_set, dtype=object)\n",
    "\n",
    "X = list(data_set[:, 0])\n",
    "Y = list(data_set[:, 1])\n",
    "\n",
    "Y[:3]"
   ]
  },
  {
   "cell_type": "markdown",
   "id": "26f87941",
   "metadata": {},
   "source": [
    "# Building Model"
   ]
  },
  {
   "cell_type": "code",
   "execution_count": null,
   "id": "afc9eacc",
   "metadata": {},
   "outputs": [],
   "source": [
    "def create_model(input_size, output_size):\n",
    "    model = Sequential([\n",
    "        Dense(128, input_shape=(input_size,), activation=\"relu\"),\n",
    "        Dropout(0.5),\n",
    "        Dense(64, activation=\"relu\"),\n",
    "        Dropout(0.5),\n",
    "        Dense(output_size, activation=\"softmax\")])\n",
    "    \n",
    "    return model\n",
    "\n",
    "model = create_model(len(words), len(classes))\n",
    "model.summary()"
   ]
  },
  {
   "cell_type": "code",
   "execution_count": null,
   "id": "0a8049b3",
   "metadata": {
    "scrolled": true
   },
   "outputs": [],
   "source": [
    "model.compile(optimizer=Adam(learning_rate=0.01), loss=\"categorical_crossentropy\", metrics=[\"accuracy\"])\n",
    "\n",
    "# model.compile(optimizer=SGD(learning_rate=0.01, momentum=0.8, decay=1e-5, nesterov=True), loss=\"categorical_crossentropy\", metrics=[\"accuracy\"])\n",
    "\n",
    "model.fit(X, Y, epochs=200, batch_size=3, verbose=1)\n",
    "\n",
    "model.save(r\"D:\\Courses language programming\\9_Big Projects\\6 - Building ChatBot\\ChatBot - V1\\\\model_chat_bot.h5\")"
   ]
  },
  {
   "cell_type": "markdown",
   "id": "f6ce15b0",
   "metadata": {},
   "source": [
    "# -----------------------------------------------------------------------------------------------"
   ]
  },
  {
   "cell_type": "markdown",
   "id": "ebd715c3",
   "metadata": {},
   "source": [
    "# Make Prediction"
   ]
  },
  {
   "cell_type": "code",
   "execution_count": 28,
   "id": "f8b86608",
   "metadata": {},
   "outputs": [
    {
     "name": "stdout",
     "output_type": "stream",
     "text": [
      "1/1 [==============================] - 0s 14ms/step\n"
     ]
    },
    {
     "data": {
      "text/plain": [
       "'Good to see you again'"
      ]
     },
     "execution_count": 28,
     "metadata": {},
     "output_type": "execute_result"
    }
   ],
   "source": [
    "sen = \"Hello, How are you?\"\n",
    "\n",
    "def sen_words(sen):\n",
    "    swords = word_tokenize(sen)\n",
    "    swords = [w.lower() for w in swords]\n",
    "    return swords\n",
    "\n",
    "def digitize(sen, words):\n",
    "    input_vec = [0] * len(words)\n",
    "    swords = sen_words(sen)\n",
    "    \n",
    "    for sw in swords:\n",
    "        if sw in words: input_vec[words.index(sw)] = 1\n",
    "    return input_vec\n",
    "\n",
    "def predict_class(sen, words, classes, model):\n",
    "    sample = digitize(sen, words)\n",
    "    value = model.predict(np.array([sample]))[0]\n",
    "    \n",
    "    return classes[np.argmax(value)]\n",
    "\n",
    "def get_response(sen, words, classes, model):\n",
    "    file = open(r\"D:\\Courses language programming\\9_Big Projects\\6 - Building ChatBot\\ChatBot - V1\\data.json\").read()\n",
    "    data = json.loads(file)\n",
    "    tag = predict_class(sen, words, classes, model)\n",
    "    for record in data[\"info\"]:\n",
    "        if record[\"title\"] == tag: return random.choice(record[\"responses\"])\n",
    "        \n",
    "get_response(sen, words, classes, model)"
   ]
  },
  {
   "cell_type": "code",
   "execution_count": null,
   "id": "49ea2870",
   "metadata": {},
   "outputs": [],
   "source": []
  }
 ],
 "metadata": {
  "kernelspec": {
   "display_name": "Python 3 (ipykernel)",
   "language": "python",
   "name": "python3"
  },
  "language_info": {
   "codemirror_mode": {
    "name": "ipython",
    "version": 3
   },
   "file_extension": ".py",
   "mimetype": "text/x-python",
   "name": "python",
   "nbconvert_exporter": "python",
   "pygments_lexer": "ipython3",
   "version": "3.10.9"
  }
 },
 "nbformat": 4,
 "nbformat_minor": 5
}
