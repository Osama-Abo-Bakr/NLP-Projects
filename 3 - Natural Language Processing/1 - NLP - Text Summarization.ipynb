{
 "cells": [
  {
   "cell_type": "markdown",
   "id": "7f6278c1",
   "metadata": {},
   "source": [
    "# Main Library"
   ]
  },
  {
   "cell_type": "code",
   "execution_count": 1,
   "id": "67f6ca2d",
   "metadata": {},
   "outputs": [],
   "source": [
    "# Reading Data\n",
    "import pandas as pd\n",
    "import numpy as np\n",
    "\n",
    "# Data Preprocessing\n",
    "import string\n",
    "from nltk.corpus import stopwords\n",
    "from nltk.tokenize import word_tokenize, sent_tokenize\n",
    "\n",
    "# Download Model\n",
    "import pickle\n",
    "\n",
    "# To Make Text Summarization\n",
    "from heapq import nlargest"
   ]
  },
  {
   "cell_type": "markdown",
   "id": "aba09b12",
   "metadata": {},
   "source": [
    "# Reading Data --> Text to Make Summarizartion"
   ]
  },
  {
   "cell_type": "code",
   "execution_count": 2,
   "id": "48224f0d",
   "metadata": {},
   "outputs": [],
   "source": [
    "text = \"\"\"\n",
    "Text messaging, or texting, is the act of composing and sending electronic messages, typically consisting of alphabetic and numeric characters, between two or more users of mobile devices, desktops/laptops, or another type of compatible computer. Text messages may be sent over a cellular network or may also be sent via satellite or Internet connection.\n",
    "\n",
    "The term originally referred to messages sent using the Short Message Service (SMS). It has grown beyond alphanumeric text to include multimedia messages using the Multimedia Messaging Service (MMS) containing digital images, videos, and sound content, as well as ideograms known as emoji (happy faces, sad faces, and other icons), and instant messenger applications (usually the term is used when on mobile devices).\n",
    "\n",
    "Text messages are used for personal, family, business, and social purposes. Governmental and non-governmental organizations use text messaging for communication between colleagues. In the 2010s, the sending of short informal messages became an accepted part of many cultures, as happened earlier with emailing.[1] This makes texting a quick and easy way to communicate with friends, family, and colleagues, including in contexts where a call would be impolite or inappropriate (e.g., calling very late at night or when one knows the other person is busy with family or work activities). Like e-mail and voicemail, and unlike calls (in which the caller hopes to speak directly with the recipient), texting does not require the caller and recipient to both be free at the same moment; this permits communication even between busy individuals. Text messages can also be used to interact with automated systems, for example, to order products or services from e-commerce websites or to participate in online contests. Advertisers and service providers use direct text marketing to send messages to mobile users about promotions, payment due dates, and other notifications instead of using postal mail, email, or voicemail.\"\"\"\n",
    "\n",
    "text_token = word_tokenize(text)"
   ]
  },
  {
   "cell_type": "code",
   "execution_count": 3,
   "id": "55ce596f",
   "metadata": {},
   "outputs": [
    {
     "data": {
      "text/plain": [
       "['Text', 'messaging', ',', 'or', 'texting', ',', 'is', 'the', 'act', 'of']"
      ]
     },
     "execution_count": 3,
     "metadata": {},
     "output_type": "execute_result"
    }
   ],
   "source": [
    "text_token[:10]"
   ]
  },
  {
   "cell_type": "markdown",
   "id": "14ca5c39",
   "metadata": {},
   "source": [
    "# Preprocessing In Text"
   ]
  },
  {
   "cell_type": "code",
   "execution_count": 4,
   "id": "f27851a2",
   "metadata": {},
   "outputs": [],
   "source": [
    "stopword = list(stopwords.words(\"english\"))\n",
    "punc = list(string.punctuation)"
   ]
  },
  {
   "cell_type": "code",
   "execution_count": 5,
   "id": "ae35536e",
   "metadata": {},
   "outputs": [
    {
     "data": {
      "text/plain": [
       "{'Text': 4,\n",
       " 'messaging': 2,\n",
       " 'texting': 3,\n",
       " 'act': 1,\n",
       " 'composing': 1,\n",
       " 'sending': 2,\n",
       " 'electronic': 1,\n",
       " 'messages': 8,\n",
       " 'typically': 1,\n",
       " 'consisting': 1,\n",
       " 'alphabetic': 1,\n",
       " 'numeric': 1,\n",
       " 'characters': 1,\n",
       " 'two': 1,\n",
       " 'users': 2,\n",
       " 'mobile': 3,\n",
       " 'devices': 2,\n",
       " 'desktops/laptops': 1,\n",
       " 'another': 1,\n",
       " 'type': 1,\n",
       " 'compatible': 1,\n",
       " 'computer': 1,\n",
       " 'may': 2,\n",
       " 'sent': 3,\n",
       " 'cellular': 1,\n",
       " 'network': 1,\n",
       " 'also': 2,\n",
       " 'via': 1,\n",
       " 'satellite': 1,\n",
       " 'Internet': 1,\n",
       " 'connection': 1,\n",
       " 'term': 2,\n",
       " 'originally': 1,\n",
       " 'referred': 1,\n",
       " 'using': 3,\n",
       " 'Short': 1,\n",
       " 'Message': 1,\n",
       " 'Service': 2,\n",
       " 'SMS': 1,\n",
       " 'grown': 1,\n",
       " 'beyond': 1,\n",
       " 'alphanumeric': 1,\n",
       " 'text': 3,\n",
       " 'include': 1,\n",
       " 'multimedia': 1,\n",
       " 'Multimedia': 1,\n",
       " 'Messaging': 1,\n",
       " 'MMS': 1,\n",
       " 'containing': 1,\n",
       " 'digital': 1,\n",
       " 'images': 1,\n",
       " 'videos': 1,\n",
       " 'sound': 1,\n",
       " 'content': 1,\n",
       " 'well': 1,\n",
       " 'ideograms': 1,\n",
       " 'known': 1,\n",
       " 'emoji': 1,\n",
       " 'happy': 1,\n",
       " 'faces': 2,\n",
       " 'sad': 1,\n",
       " 'icons': 1,\n",
       " 'instant': 1,\n",
       " 'messenger': 1,\n",
       " 'applications': 1,\n",
       " 'usually': 1,\n",
       " 'used': 3,\n",
       " 'personal': 1,\n",
       " 'family': 3,\n",
       " 'business': 1,\n",
       " 'social': 1,\n",
       " 'purposes': 1,\n",
       " 'Governmental': 1,\n",
       " 'non-governmental': 1,\n",
       " 'organizations': 1,\n",
       " 'use': 2,\n",
       " 'communication': 2,\n",
       " 'colleagues': 2,\n",
       " '2010s': 1,\n",
       " 'short': 1,\n",
       " 'informal': 1,\n",
       " 'became': 1,\n",
       " 'accepted': 1,\n",
       " 'part': 1,\n",
       " 'many': 1,\n",
       " 'cultures': 1,\n",
       " 'happened': 1,\n",
       " 'earlier': 1,\n",
       " 'emailing': 1,\n",
       " '1': 1,\n",
       " 'makes': 1,\n",
       " 'quick': 1,\n",
       " 'easy': 1,\n",
       " 'way': 1,\n",
       " 'communicate': 1,\n",
       " 'friends': 1,\n",
       " 'including': 1,\n",
       " 'contexts': 1,\n",
       " 'call': 1,\n",
       " 'would': 1,\n",
       " 'impolite': 1,\n",
       " 'inappropriate': 1,\n",
       " 'e.g.': 1,\n",
       " 'calling': 1,\n",
       " 'late': 1,\n",
       " 'night': 1,\n",
       " 'one': 1,\n",
       " 'knows': 1,\n",
       " 'person': 1,\n",
       " 'busy': 2,\n",
       " 'work': 1,\n",
       " 'activities': 1,\n",
       " 'Like': 1,\n",
       " 'e-mail': 1,\n",
       " 'voicemail': 2,\n",
       " 'unlike': 1,\n",
       " 'calls': 1,\n",
       " 'caller': 2,\n",
       " 'hopes': 1,\n",
       " 'speak': 1,\n",
       " 'directly': 1,\n",
       " 'recipient': 2,\n",
       " 'require': 1,\n",
       " 'free': 1,\n",
       " 'moment': 1,\n",
       " 'permits': 1,\n",
       " 'even': 1,\n",
       " 'individuals': 1,\n",
       " 'interact': 1,\n",
       " 'automated': 1,\n",
       " 'systems': 1,\n",
       " 'example': 1,\n",
       " 'order': 1,\n",
       " 'products': 1,\n",
       " 'services': 1,\n",
       " 'e-commerce': 1,\n",
       " 'websites': 1,\n",
       " 'participate': 1,\n",
       " 'online': 1,\n",
       " 'contests': 1,\n",
       " 'Advertisers': 1,\n",
       " 'service': 1,\n",
       " 'providers': 1,\n",
       " 'direct': 1,\n",
       " 'marketing': 1,\n",
       " 'send': 1,\n",
       " 'promotions': 1,\n",
       " 'payment': 1,\n",
       " 'due': 1,\n",
       " 'dates': 1,\n",
       " 'notifications': 1,\n",
       " 'instead': 1,\n",
       " 'postal': 1,\n",
       " 'mail': 1,\n",
       " 'email': 1}"
      ]
     },
     "execution_count": 5,
     "metadata": {},
     "output_type": "execute_result"
    }
   ],
   "source": [
    "word_freq = {}\n",
    "for word in text_token:\n",
    "    if (word.lower() not in punc) and (word.lower() not in stopword):\n",
    "        if word not in word_freq.keys():\n",
    "            word_freq[word] = 1\n",
    "        else: word_freq[word] += 1\n",
    "\n",
    "word_freq"
   ]
  },
  {
   "cell_type": "code",
   "execution_count": 6,
   "id": "7580774c",
   "metadata": {},
   "outputs": [],
   "source": [
    "max_freq = max(word_freq.values())"
   ]
  },
  {
   "cell_type": "code",
   "execution_count": 7,
   "id": "954c887d",
   "metadata": {},
   "outputs": [
    {
     "data": {
      "text/plain": [
       "{'Text': 0.5,\n",
       " 'messaging': 0.25,\n",
       " 'texting': 0.375,\n",
       " 'act': 0.125,\n",
       " 'composing': 0.125,\n",
       " 'sending': 0.25,\n",
       " 'electronic': 0.125,\n",
       " 'messages': 1.0,\n",
       " 'typically': 0.125,\n",
       " 'consisting': 0.125,\n",
       " 'alphabetic': 0.125,\n",
       " 'numeric': 0.125,\n",
       " 'characters': 0.125,\n",
       " 'two': 0.125,\n",
       " 'users': 0.25,\n",
       " 'mobile': 0.375,\n",
       " 'devices': 0.25,\n",
       " 'desktops/laptops': 0.125,\n",
       " 'another': 0.125,\n",
       " 'type': 0.125,\n",
       " 'compatible': 0.125,\n",
       " 'computer': 0.125,\n",
       " 'may': 0.25,\n",
       " 'sent': 0.375,\n",
       " 'cellular': 0.125,\n",
       " 'network': 0.125,\n",
       " 'also': 0.25,\n",
       " 'via': 0.125,\n",
       " 'satellite': 0.125,\n",
       " 'Internet': 0.125,\n",
       " 'connection': 0.125,\n",
       " 'term': 0.25,\n",
       " 'originally': 0.125,\n",
       " 'referred': 0.125,\n",
       " 'using': 0.375,\n",
       " 'Short': 0.125,\n",
       " 'Message': 0.125,\n",
       " 'Service': 0.25,\n",
       " 'SMS': 0.125,\n",
       " 'grown': 0.125,\n",
       " 'beyond': 0.125,\n",
       " 'alphanumeric': 0.125,\n",
       " 'text': 0.375,\n",
       " 'include': 0.125,\n",
       " 'multimedia': 0.125,\n",
       " 'Multimedia': 0.125,\n",
       " 'Messaging': 0.125,\n",
       " 'MMS': 0.125,\n",
       " 'containing': 0.125,\n",
       " 'digital': 0.125,\n",
       " 'images': 0.125,\n",
       " 'videos': 0.125,\n",
       " 'sound': 0.125,\n",
       " 'content': 0.125,\n",
       " 'well': 0.125,\n",
       " 'ideograms': 0.125,\n",
       " 'known': 0.125,\n",
       " 'emoji': 0.125,\n",
       " 'happy': 0.125,\n",
       " 'faces': 0.25,\n",
       " 'sad': 0.125,\n",
       " 'icons': 0.125,\n",
       " 'instant': 0.125,\n",
       " 'messenger': 0.125,\n",
       " 'applications': 0.125,\n",
       " 'usually': 0.125,\n",
       " 'used': 0.375,\n",
       " 'personal': 0.125,\n",
       " 'family': 0.375,\n",
       " 'business': 0.125,\n",
       " 'social': 0.125,\n",
       " 'purposes': 0.125,\n",
       " 'Governmental': 0.125,\n",
       " 'non-governmental': 0.125,\n",
       " 'organizations': 0.125,\n",
       " 'use': 0.25,\n",
       " 'communication': 0.25,\n",
       " 'colleagues': 0.25,\n",
       " '2010s': 0.125,\n",
       " 'short': 0.125,\n",
       " 'informal': 0.125,\n",
       " 'became': 0.125,\n",
       " 'accepted': 0.125,\n",
       " 'part': 0.125,\n",
       " 'many': 0.125,\n",
       " 'cultures': 0.125,\n",
       " 'happened': 0.125,\n",
       " 'earlier': 0.125,\n",
       " 'emailing': 0.125,\n",
       " '1': 0.125,\n",
       " 'makes': 0.125,\n",
       " 'quick': 0.125,\n",
       " 'easy': 0.125,\n",
       " 'way': 0.125,\n",
       " 'communicate': 0.125,\n",
       " 'friends': 0.125,\n",
       " 'including': 0.125,\n",
       " 'contexts': 0.125,\n",
       " 'call': 0.125,\n",
       " 'would': 0.125,\n",
       " 'impolite': 0.125,\n",
       " 'inappropriate': 0.125,\n",
       " 'e.g.': 0.125,\n",
       " 'calling': 0.125,\n",
       " 'late': 0.125,\n",
       " 'night': 0.125,\n",
       " 'one': 0.125,\n",
       " 'knows': 0.125,\n",
       " 'person': 0.125,\n",
       " 'busy': 0.25,\n",
       " 'work': 0.125,\n",
       " 'activities': 0.125,\n",
       " 'Like': 0.125,\n",
       " 'e-mail': 0.125,\n",
       " 'voicemail': 0.25,\n",
       " 'unlike': 0.125,\n",
       " 'calls': 0.125,\n",
       " 'caller': 0.25,\n",
       " 'hopes': 0.125,\n",
       " 'speak': 0.125,\n",
       " 'directly': 0.125,\n",
       " 'recipient': 0.25,\n",
       " 'require': 0.125,\n",
       " 'free': 0.125,\n",
       " 'moment': 0.125,\n",
       " 'permits': 0.125,\n",
       " 'even': 0.125,\n",
       " 'individuals': 0.125,\n",
       " 'interact': 0.125,\n",
       " 'automated': 0.125,\n",
       " 'systems': 0.125,\n",
       " 'example': 0.125,\n",
       " 'order': 0.125,\n",
       " 'products': 0.125,\n",
       " 'services': 0.125,\n",
       " 'e-commerce': 0.125,\n",
       " 'websites': 0.125,\n",
       " 'participate': 0.125,\n",
       " 'online': 0.125,\n",
       " 'contests': 0.125,\n",
       " 'Advertisers': 0.125,\n",
       " 'service': 0.125,\n",
       " 'providers': 0.125,\n",
       " 'direct': 0.125,\n",
       " 'marketing': 0.125,\n",
       " 'send': 0.125,\n",
       " 'promotions': 0.125,\n",
       " 'payment': 0.125,\n",
       " 'due': 0.125,\n",
       " 'dates': 0.125,\n",
       " 'notifications': 0.125,\n",
       " 'instead': 0.125,\n",
       " 'postal': 0.125,\n",
       " 'mail': 0.125,\n",
       " 'email': 0.125}"
      ]
     },
     "execution_count": 7,
     "metadata": {},
     "output_type": "execute_result"
    }
   ],
   "source": [
    "for word in word_freq.keys():\n",
    "    word_freq[word] = word_freq[word] / max_freq\n",
    "word_freq"
   ]
  },
  {
   "cell_type": "code",
   "execution_count": 8,
   "id": "038cd66d",
   "metadata": {},
   "outputs": [
    {
     "data": {
      "text/plain": [
       "['\\nText messaging, or texting, is the act of composing and sending electronic messages, typically consisting of alphabetic and numeric characters, between two or more users of mobile devices, desktops/laptops, or another type of compatible computer.',\n",
       " 'Text messages may be sent over a cellular network or may also be sent via satellite or Internet connection.',\n",
       " 'The term originally referred to messages sent using the Short Message Service (SMS).',\n",
       " 'It has grown beyond alphanumeric text to include multimedia messages using the Multimedia Messaging Service (MMS) containing digital images, videos, and sound content, as well as ideograms known as emoji (happy faces, sad faces, and other icons), and instant messenger applications (usually the term is used when on mobile devices).',\n",
       " 'Text messages are used for personal, family, business, and social purposes.',\n",
       " 'Governmental and non-governmental organizations use text messaging for communication between colleagues.',\n",
       " 'In the 2010s, the sending of short informal messages became an accepted part of many cultures, as happened earlier with emailing.',\n",
       " '[1] This makes texting a quick and easy way to communicate with friends, family, and colleagues, including in contexts where a call would be impolite or inappropriate (e.g., calling very late at night or when one knows the other person is busy with family or work activities).',\n",
       " 'Like e-mail and voicemail, and unlike calls (in which the caller hopes to speak directly with the recipient), texting does not require the caller and recipient to both be free at the same moment; this permits communication even between busy individuals.',\n",
       " 'Text messages can also be used to interact with automated systems, for example, to order products or services from e-commerce websites or to participate in online contests.',\n",
       " 'Advertisers and service providers use direct text marketing to send messages to mobile users about promotions, payment due dates, and other notifications instead of using postal mail, email, or voicemail.']"
      ]
     },
     "execution_count": 8,
     "metadata": {},
     "output_type": "execute_result"
    }
   ],
   "source": [
    "sent_token = sent_tokenize(text)\n",
    "sent_token"
   ]
  },
  {
   "cell_type": "code",
   "execution_count": 10,
   "id": "91c279eb",
   "metadata": {},
   "outputs": [
    {
     "data": {
      "text/plain": [
       "{'In the 2010s, the sending of short informal messages became an accepted part of many cultures, as happened earlier with emailing.': 0.125,\n",
       " '[1] This makes texting a quick and easy way to communicate with friends, family, and colleagues, including in contexts where a call would be impolite or inappropriate (e.g., calling very late at night or when one knows the other person is busy with family or work activities).': 0.125}"
      ]
     },
     "execution_count": 10,
     "metadata": {},
     "output_type": "execute_result"
    }
   ],
   "source": [
    "sent_score = {}\n",
    "\n",
    "for sent in sent_token:\n",
    "    for word in sent:\n",
    "        if word in word_freq.keys():\n",
    "            if sent not in sent_score.keys():\n",
    "                sent_score[sent] = word_freq[word]\n",
    "            else:\n",
    "                sent_score[sent] += word_freq[word]\n",
    "                \n",
    "sent_score"
   ]
  },
  {
   "cell_type": "code",
   "execution_count": 12,
   "id": "9b2c3379",
   "metadata": {},
   "outputs": [
    {
     "data": {
      "text/plain": [
       "3"
      ]
     },
     "execution_count": 12,
     "metadata": {},
     "output_type": "execute_result"
    }
   ],
   "source": [
    "select_len = int(len(sent_token) * 0.3)\n",
    "select_len"
   ]
  },
  {
   "cell_type": "code",
   "execution_count": 15,
   "id": "f97c2529",
   "metadata": {},
   "outputs": [],
   "source": [
    "summary = \" \".join(nlargest(select_len, sent_score, key=sent_score.get))"
   ]
  },
  {
   "cell_type": "code",
   "execution_count": 16,
   "id": "bfe2f4cd",
   "metadata": {},
   "outputs": [
    {
     "data": {
      "text/plain": [
       "'In the 2010s, the sending of short informal messages became an accepted part of many cultures, as happened earlier with emailing. [1] This makes texting a quick and easy way to communicate with friends, family, and colleagues, including in contexts where a call would be impolite or inappropriate (e.g., calling very late at night or when one knows the other person is busy with family or work activities).'"
      ]
     },
     "execution_count": 16,
     "metadata": {},
     "output_type": "execute_result"
    }
   ],
   "source": [
    "summary"
   ]
  },
  {
   "cell_type": "code",
   "execution_count": null,
   "id": "c8b693b5",
   "metadata": {},
   "outputs": [],
   "source": []
  }
 ],
 "metadata": {
  "kernelspec": {
   "display_name": "Python 3 (ipykernel)",
   "language": "python",
   "name": "python3"
  },
  "language_info": {
   "codemirror_mode": {
    "name": "ipython",
    "version": 3
   },
   "file_extension": ".py",
   "mimetype": "text/x-python",
   "name": "python",
   "nbconvert_exporter": "python",
   "pygments_lexer": "ipython3",
   "version": "3.10.9"
  }
 },
 "nbformat": 4,
 "nbformat_minor": 5
}
