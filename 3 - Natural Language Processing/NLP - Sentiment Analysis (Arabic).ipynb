{
 "cells": [
  {
   "cell_type": "markdown",
   "id": "22f61e2f",
   "metadata": {},
   "source": [
    "# Main Library"
   ]
  },
  {
   "cell_type": "code",
   "execution_count": 1,
   "id": "2ea9af41",
   "metadata": {},
   "outputs": [],
   "source": [
    "# Reading Data\n",
    "import pandas as pd\n",
    "import numpy as np\n",
    "import matplotlib.pyplot as plt\n",
    "\n",
    "# Data Preprocessing\n",
    "import string\n",
    "# from nltk.corpus import stopwords\n",
    "from nltk.tokenize import word_tokenize\n",
    "# from nltk.stem import WordNetLemmatizer\n",
    "from tensorflow.keras.preprocessing.text import Tokenizer\n",
    "from tensorflow.keras.preprocessing.sequence import pad_sequences\n",
    "from keras.utils import to_categorical\n",
    "from sklearn.model_selection import train_test_split\n",
    "\n",
    "# Building Model\n",
    "import tensorflow.keras as k\n",
    "from tensorflow.keras.layers import Dense, Embedding, Dropout, GlobalAveragePooling1D, LSTM\n",
    "\n",
    "# Download Model\n",
    "import pickle"
   ]
  },
  {
   "cell_type": "markdown",
   "id": "c7e28aa3",
   "metadata": {},
   "source": [
    "# Reading Data"
   ]
  },
  {
   "cell_type": "code",
   "execution_count": 2,
   "id": "4fd35167",
   "metadata": {},
   "outputs": [
    {
     "data": {
      "text/html": [
       "<div>\n",
       "<style scoped>\n",
       "    .dataframe tbody tr th:only-of-type {\n",
       "        vertical-align: middle;\n",
       "    }\n",
       "\n",
       "    .dataframe tbody tr th {\n",
       "        vertical-align: top;\n",
       "    }\n",
       "\n",
       "    .dataframe thead th {\n",
       "        text-align: right;\n",
       "    }\n",
       "</style>\n",
       "<table border=\"1\" class=\"dataframe\">\n",
       "  <thead>\n",
       "    <tr style=\"text-align: right;\">\n",
       "      <th></th>\n",
       "      <th>label</th>\n",
       "      <th>text</th>\n",
       "    </tr>\n",
       "  </thead>\n",
       "  <tbody>\n",
       "    <tr>\n",
       "      <th>0</th>\n",
       "      <td>Positive</td>\n",
       "      <td>ممتاز نوعا ما . النظافة والموقع والتجهيز والشا...</td>\n",
       "    </tr>\n",
       "    <tr>\n",
       "      <th>1</th>\n",
       "      <td>Positive</td>\n",
       "      <td>أحد أسباب نجاح الإمارات أن كل شخص في هذه الدول...</td>\n",
       "    </tr>\n",
       "    <tr>\n",
       "      <th>2</th>\n",
       "      <td>Positive</td>\n",
       "      <td>هادفة .. وقوية. تنقلك من صخب شوارع القاهرة الى...</td>\n",
       "    </tr>\n",
       "    <tr>\n",
       "      <th>3</th>\n",
       "      <td>Positive</td>\n",
       "      <td>خلصنا .. مبدئيا اللي مستني ابهار زي الفيل الاز...</td>\n",
       "    </tr>\n",
       "    <tr>\n",
       "      <th>4</th>\n",
       "      <td>Positive</td>\n",
       "      <td>ياسات جلوريا جزء لا يتجزأ من دبي . فندق متكامل...</td>\n",
       "    </tr>\n",
       "  </tbody>\n",
       "</table>\n",
       "</div>"
      ],
      "text/plain": [
       "      label                                               text\n",
       "0  Positive  ممتاز نوعا ما . النظافة والموقع والتجهيز والشا...\n",
       "1  Positive  أحد أسباب نجاح الإمارات أن كل شخص في هذه الدول...\n",
       "2  Positive  هادفة .. وقوية. تنقلك من صخب شوارع القاهرة الى...\n",
       "3  Positive  خلصنا .. مبدئيا اللي مستني ابهار زي الفيل الاز...\n",
       "4  Positive  ياسات جلوريا جزء لا يتجزأ من دبي . فندق متكامل..."
      ]
     },
     "execution_count": 2,
     "metadata": {},
     "output_type": "execute_result"
    }
   ],
   "source": [
    "data = pd.read_csv(r\"D:\\Courses language programming\\11_Natural Language Processing\\Projects For NLP\\Data\\NLP - Arabic 100k Reviews\\ar_reviews_100k.tsv\", sep=\"\\t\")\n",
    "data.head(5)"
   ]
  },
  {
   "cell_type": "code",
   "execution_count": 3,
   "id": "1e262c39",
   "metadata": {},
   "outputs": [
    {
     "data": {
      "text/plain": [
       "label    0\n",
       "text     0\n",
       "dtype: int64"
      ]
     },
     "execution_count": 3,
     "metadata": {},
     "output_type": "execute_result"
    }
   ],
   "source": [
    "data.isnull().sum()"
   ]
  },
  {
   "cell_type": "code",
   "execution_count": 4,
   "id": "4652f2d1",
   "metadata": {},
   "outputs": [
    {
     "data": {
      "text/plain": [
       "Positive    33333\n",
       "Mixed       33333\n",
       "Negative    33333\n",
       "Name: label, dtype: int64"
      ]
     },
     "execution_count": 4,
     "metadata": {},
     "output_type": "execute_result"
    }
   ],
   "source": [
    "data[\"label\"].value_counts()"
   ]
  },
  {
   "cell_type": "code",
   "execution_count": 5,
   "id": "c297a0af",
   "metadata": {},
   "outputs": [
    {
     "data": {
      "text/html": [
       "<div>\n",
       "<style scoped>\n",
       "    .dataframe tbody tr th:only-of-type {\n",
       "        vertical-align: middle;\n",
       "    }\n",
       "\n",
       "    .dataframe tbody tr th {\n",
       "        vertical-align: top;\n",
       "    }\n",
       "\n",
       "    .dataframe thead th {\n",
       "        text-align: right;\n",
       "    }\n",
       "</style>\n",
       "<table border=\"1\" class=\"dataframe\">\n",
       "  <thead>\n",
       "    <tr style=\"text-align: right;\">\n",
       "      <th></th>\n",
       "      <th>label</th>\n",
       "      <th>text</th>\n",
       "    </tr>\n",
       "  </thead>\n",
       "  <tbody>\n",
       "    <tr>\n",
       "      <th>33333</th>\n",
       "      <td>Mixed</td>\n",
       "      <td>مقبول. السرير مريح نوعا ما. حمام واحد فقط ف ال...</td>\n",
       "    </tr>\n",
       "    <tr>\n",
       "      <th>33334</th>\n",
       "      <td>Mixed</td>\n",
       "      <td>أول قراءة لي لغادة السمان، الكاتبة أوضحت أن مح...</td>\n",
       "    </tr>\n",
       "    <tr>\n",
       "      <th>33335</th>\n",
       "      <td>Mixed</td>\n",
       "      <td>رواية جيدة مختلفة عن النوع الذى عودنا احمد مرا...</td>\n",
       "    </tr>\n",
       "    <tr>\n",
       "      <th>33336</th>\n",
       "      <td>Mixed</td>\n",
       "      <td>جميلة وممتعة ، بس مش مهمة خالص. اول حاجة اقراه...</td>\n",
       "    </tr>\n",
       "    <tr>\n",
       "      <th>33337</th>\n",
       "      <td>Mixed</td>\n",
       "      <td>الثلاث نجمات لي أنا وليس للكتاب.. لأني ببساطة ...</td>\n",
       "    </tr>\n",
       "    <tr>\n",
       "      <th>...</th>\n",
       "      <td>...</td>\n",
       "      <td>...</td>\n",
       "    </tr>\n",
       "    <tr>\n",
       "      <th>66661</th>\n",
       "      <td>Mixed</td>\n",
       "      <td>هنا غازي .. مختلف. ماهر في في أخذك للوكيشن الم...</td>\n",
       "    </tr>\n",
       "    <tr>\n",
       "      <th>66662</th>\n",
       "      <td>Mixed</td>\n",
       "      <td>أكثر ما أحبتته هو اعتماده علي وصف التاريخ من و...</td>\n",
       "    </tr>\n",
       "    <tr>\n",
       "      <th>66663</th>\n",
       "      <td>Mixed</td>\n",
       "      <td>اقامه جيده بشكل عام . القرب من الحرم المكيالمص...</td>\n",
       "    </tr>\n",
       "    <tr>\n",
       "      <th>66664</th>\n",
       "      <td>Mixed</td>\n",
       "      <td>كان الكتاب كتاب جميل أشبع رغبتنا لمعرفة أوجه ث...</td>\n",
       "    </tr>\n",
       "    <tr>\n",
       "      <th>66665</th>\n",
       "      <td>Mixed</td>\n",
       "      <td>حسن. . طاقم العمل سيء جدا ، خاصة الاستقبال</td>\n",
       "    </tr>\n",
       "  </tbody>\n",
       "</table>\n",
       "<p>33333 rows × 2 columns</p>\n",
       "</div>"
      ],
      "text/plain": [
       "       label                                               text\n",
       "33333  Mixed  مقبول. السرير مريح نوعا ما. حمام واحد فقط ف ال...\n",
       "33334  Mixed  أول قراءة لي لغادة السمان، الكاتبة أوضحت أن مح...\n",
       "33335  Mixed  رواية جيدة مختلفة عن النوع الذى عودنا احمد مرا...\n",
       "33336  Mixed  جميلة وممتعة ، بس مش مهمة خالص. اول حاجة اقراه...\n",
       "33337  Mixed  الثلاث نجمات لي أنا وليس للكتاب.. لأني ببساطة ...\n",
       "...      ...                                                ...\n",
       "66661  Mixed  هنا غازي .. مختلف. ماهر في في أخذك للوكيشن الم...\n",
       "66662  Mixed  أكثر ما أحبتته هو اعتماده علي وصف التاريخ من و...\n",
       "66663  Mixed  اقامه جيده بشكل عام . القرب من الحرم المكيالمص...\n",
       "66664  Mixed  كان الكتاب كتاب جميل أشبع رغبتنا لمعرفة أوجه ث...\n",
       "66665  Mixed         حسن. . طاقم العمل سيء جدا ، خاصة الاستقبال\n",
       "\n",
       "[33333 rows x 2 columns]"
      ]
     },
     "execution_count": 5,
     "metadata": {},
     "output_type": "execute_result"
    }
   ],
   "source": [
    "data[data[\"label\"] == \"Mixed\"]"
   ]
  },
  {
   "cell_type": "code",
   "execution_count": 6,
   "id": "b144b4e7",
   "metadata": {},
   "outputs": [],
   "source": [
    "# data = pd.concat([data.iloc[0:10000],data.iloc[33333:10000+33333], data.iloc[33333+33333:10000+33333+33333]], axis=0)\n",
    "# data.head(4)"
   ]
  },
  {
   "cell_type": "code",
   "execution_count": 7,
   "id": "988d1660",
   "metadata": {},
   "outputs": [],
   "source": [
    "# data[\"label\"].value_counts()"
   ]
  },
  {
   "cell_type": "code",
   "execution_count": 8,
   "id": "6570c31a",
   "metadata": {},
   "outputs": [],
   "source": [
    "data.drop(data[data[\"label\"] == \"Mixed\"].index, axis=0, inplace=True)"
   ]
  },
  {
   "cell_type": "code",
   "execution_count": 9,
   "id": "3f24c276",
   "metadata": {},
   "outputs": [
    {
     "data": {
      "text/html": [
       "<div>\n",
       "<style scoped>\n",
       "    .dataframe tbody tr th:only-of-type {\n",
       "        vertical-align: middle;\n",
       "    }\n",
       "\n",
       "    .dataframe tbody tr th {\n",
       "        vertical-align: top;\n",
       "    }\n",
       "\n",
       "    .dataframe thead th {\n",
       "        text-align: right;\n",
       "    }\n",
       "</style>\n",
       "<table border=\"1\" class=\"dataframe\">\n",
       "  <thead>\n",
       "    <tr style=\"text-align: right;\">\n",
       "      <th></th>\n",
       "      <th>label</th>\n",
       "      <th>text</th>\n",
       "    </tr>\n",
       "  </thead>\n",
       "  <tbody>\n",
       "    <tr>\n",
       "      <th>0</th>\n",
       "      <td>Positive</td>\n",
       "      <td>ممتاز نوعا ما . النظافة والموقع والتجهيز والشا...</td>\n",
       "    </tr>\n",
       "    <tr>\n",
       "      <th>1</th>\n",
       "      <td>Positive</td>\n",
       "      <td>أحد أسباب نجاح الإمارات أن كل شخص في هذه الدول...</td>\n",
       "    </tr>\n",
       "    <tr>\n",
       "      <th>2</th>\n",
       "      <td>Positive</td>\n",
       "      <td>هادفة .. وقوية. تنقلك من صخب شوارع القاهرة الى...</td>\n",
       "    </tr>\n",
       "    <tr>\n",
       "      <th>3</th>\n",
       "      <td>Positive</td>\n",
       "      <td>خلصنا .. مبدئيا اللي مستني ابهار زي الفيل الاز...</td>\n",
       "    </tr>\n",
       "    <tr>\n",
       "      <th>4</th>\n",
       "      <td>Positive</td>\n",
       "      <td>ياسات جلوريا جزء لا يتجزأ من دبي . فندق متكامل...</td>\n",
       "    </tr>\n",
       "  </tbody>\n",
       "</table>\n",
       "</div>"
      ],
      "text/plain": [
       "      label                                               text\n",
       "0  Positive  ممتاز نوعا ما . النظافة والموقع والتجهيز والشا...\n",
       "1  Positive  أحد أسباب نجاح الإمارات أن كل شخص في هذه الدول...\n",
       "2  Positive  هادفة .. وقوية. تنقلك من صخب شوارع القاهرة الى...\n",
       "3  Positive  خلصنا .. مبدئيا اللي مستني ابهار زي الفيل الاز...\n",
       "4  Positive  ياسات جلوريا جزء لا يتجزأ من دبي . فندق متكامل..."
      ]
     },
     "execution_count": 9,
     "metadata": {},
     "output_type": "execute_result"
    }
   ],
   "source": [
    "data.head(5)"
   ]
  },
  {
   "cell_type": "markdown",
   "id": "c94060d3",
   "metadata": {},
   "source": [
    "# Data Preprocessing"
   ]
  },
  {
   "cell_type": "code",
   "execution_count": 10,
   "id": "394fd210",
   "metadata": {},
   "outputs": [],
   "source": [
    "punc = list(string.punctuation)\n",
    "\n",
    "def preprocessing(data):\n",
    "    data = \" \".join([word for word in word_tokenize(data) if word not in punc])\n",
    "    return data"
   ]
  },
  {
   "cell_type": "code",
   "execution_count": 11,
   "id": "106405d1",
   "metadata": {},
   "outputs": [],
   "source": [
    "data[\"text\"] = data[\"text\"].apply(preprocessing)"
   ]
  },
  {
   "cell_type": "code",
   "execution_count": 12,
   "id": "e7d8a9db",
   "metadata": {},
   "outputs": [
    {
     "data": {
      "text/html": [
       "<div>\n",
       "<style scoped>\n",
       "    .dataframe tbody tr th:only-of-type {\n",
       "        vertical-align: middle;\n",
       "    }\n",
       "\n",
       "    .dataframe tbody tr th {\n",
       "        vertical-align: top;\n",
       "    }\n",
       "\n",
       "    .dataframe thead th {\n",
       "        text-align: right;\n",
       "    }\n",
       "</style>\n",
       "<table border=\"1\" class=\"dataframe\">\n",
       "  <thead>\n",
       "    <tr style=\"text-align: right;\">\n",
       "      <th></th>\n",
       "      <th>label</th>\n",
       "      <th>text</th>\n",
       "    </tr>\n",
       "  </thead>\n",
       "  <tbody>\n",
       "    <tr>\n",
       "      <th>0</th>\n",
       "      <td>Positive</td>\n",
       "      <td>ممتاز نوعا ما النظافة والموقع والتجهيز والشاطي...</td>\n",
       "    </tr>\n",
       "    <tr>\n",
       "      <th>1</th>\n",
       "      <td>Positive</td>\n",
       "      <td>أحد أسباب نجاح الإمارات أن كل شخص في هذه الدول...</td>\n",
       "    </tr>\n",
       "    <tr>\n",
       "      <th>2</th>\n",
       "      <td>Positive</td>\n",
       "      <td>هادفة .. وقوية تنقلك من صخب شوارع القاهرة الى ...</td>\n",
       "    </tr>\n",
       "    <tr>\n",
       "      <th>3</th>\n",
       "      <td>Positive</td>\n",
       "      <td>خلصنا .. مبدئيا اللي مستني ابهار زي الفيل الاز...</td>\n",
       "    </tr>\n",
       "    <tr>\n",
       "      <th>4</th>\n",
       "      <td>Positive</td>\n",
       "      <td>ياسات جلوريا جزء لا يتجزأ من دبي فندق متكامل ا...</td>\n",
       "    </tr>\n",
       "  </tbody>\n",
       "</table>\n",
       "</div>"
      ],
      "text/plain": [
       "      label                                               text\n",
       "0  Positive  ممتاز نوعا ما النظافة والموقع والتجهيز والشاطي...\n",
       "1  Positive  أحد أسباب نجاح الإمارات أن كل شخص في هذه الدول...\n",
       "2  Positive  هادفة .. وقوية تنقلك من صخب شوارع القاهرة الى ...\n",
       "3  Positive  خلصنا .. مبدئيا اللي مستني ابهار زي الفيل الاز...\n",
       "4  Positive  ياسات جلوريا جزء لا يتجزأ من دبي فندق متكامل ا..."
      ]
     },
     "execution_count": 12,
     "metadata": {},
     "output_type": "execute_result"
    }
   ],
   "source": [
    "data.head(5)"
   ]
  },
  {
   "cell_type": "code",
   "execution_count": 13,
   "id": "15546674",
   "metadata": {},
   "outputs": [],
   "source": [
    "data.loc[data[\"label\"] == \"Positive\", \"label\"] = 0\n",
    "data.loc[data[\"label\"] == \"Negative\", \"label\"] = 1\n",
    "# data.loc[data[\"label\"] == \"Mixed\", \"label\"] = 2"
   ]
  },
  {
   "cell_type": "code",
   "execution_count": 14,
   "id": "71fc7d79",
   "metadata": {},
   "outputs": [
    {
     "data": {
      "text/html": [
       "<div>\n",
       "<style scoped>\n",
       "    .dataframe tbody tr th:only-of-type {\n",
       "        vertical-align: middle;\n",
       "    }\n",
       "\n",
       "    .dataframe tbody tr th {\n",
       "        vertical-align: top;\n",
       "    }\n",
       "\n",
       "    .dataframe thead th {\n",
       "        text-align: right;\n",
       "    }\n",
       "</style>\n",
       "<table border=\"1\" class=\"dataframe\">\n",
       "  <thead>\n",
       "    <tr style=\"text-align: right;\">\n",
       "      <th></th>\n",
       "      <th>label</th>\n",
       "      <th>text</th>\n",
       "    </tr>\n",
       "  </thead>\n",
       "  <tbody>\n",
       "    <tr>\n",
       "      <th>0</th>\n",
       "      <td>0</td>\n",
       "      <td>ممتاز نوعا ما النظافة والموقع والتجهيز والشاطي...</td>\n",
       "    </tr>\n",
       "    <tr>\n",
       "      <th>1</th>\n",
       "      <td>0</td>\n",
       "      <td>أحد أسباب نجاح الإمارات أن كل شخص في هذه الدول...</td>\n",
       "    </tr>\n",
       "    <tr>\n",
       "      <th>2</th>\n",
       "      <td>0</td>\n",
       "      <td>هادفة .. وقوية تنقلك من صخب شوارع القاهرة الى ...</td>\n",
       "    </tr>\n",
       "    <tr>\n",
       "      <th>3</th>\n",
       "      <td>0</td>\n",
       "      <td>خلصنا .. مبدئيا اللي مستني ابهار زي الفيل الاز...</td>\n",
       "    </tr>\n",
       "    <tr>\n",
       "      <th>4</th>\n",
       "      <td>0</td>\n",
       "      <td>ياسات جلوريا جزء لا يتجزأ من دبي فندق متكامل ا...</td>\n",
       "    </tr>\n",
       "  </tbody>\n",
       "</table>\n",
       "</div>"
      ],
      "text/plain": [
       "  label                                               text\n",
       "0     0  ممتاز نوعا ما النظافة والموقع والتجهيز والشاطي...\n",
       "1     0  أحد أسباب نجاح الإمارات أن كل شخص في هذه الدول...\n",
       "2     0  هادفة .. وقوية تنقلك من صخب شوارع القاهرة الى ...\n",
       "3     0  خلصنا .. مبدئيا اللي مستني ابهار زي الفيل الاز...\n",
       "4     0  ياسات جلوريا جزء لا يتجزأ من دبي فندق متكامل ا..."
      ]
     },
     "execution_count": 14,
     "metadata": {},
     "output_type": "execute_result"
    }
   ],
   "source": [
    "data.head()"
   ]
  },
  {
   "cell_type": "markdown",
   "id": "142dff86",
   "metadata": {},
   "source": [
    "# Shuffle Data"
   ]
  },
  {
   "cell_type": "code",
   "execution_count": 15,
   "id": "6d5f5553",
   "metadata": {},
   "outputs": [],
   "source": [
    "np.random.shuffle(data.values)"
   ]
  },
  {
   "cell_type": "code",
   "execution_count": 16,
   "id": "8eb4bbac",
   "metadata": {},
   "outputs": [],
   "source": [
    "X = data[\"text\"]\n",
    "Y = data[\"label\"]"
   ]
  },
  {
   "cell_type": "code",
   "execution_count": 17,
   "id": "272bee1b",
   "metadata": {},
   "outputs": [
    {
     "data": {
      "text/html": [
       "<div>\n",
       "<style scoped>\n",
       "    .dataframe tbody tr th:only-of-type {\n",
       "        vertical-align: middle;\n",
       "    }\n",
       "\n",
       "    .dataframe tbody tr th {\n",
       "        vertical-align: top;\n",
       "    }\n",
       "\n",
       "    .dataframe thead th {\n",
       "        text-align: right;\n",
       "    }\n",
       "</style>\n",
       "<table border=\"1\" class=\"dataframe\">\n",
       "  <thead>\n",
       "    <tr style=\"text-align: right;\">\n",
       "      <th></th>\n",
       "      <th>label</th>\n",
       "      <th>text</th>\n",
       "    </tr>\n",
       "  </thead>\n",
       "  <tbody>\n",
       "    <tr>\n",
       "      <th>0</th>\n",
       "      <td>1</td>\n",
       "      <td>كتاب ممل للغاية لدرجة إنى ماقدرتش أكمله</td>\n",
       "    </tr>\n",
       "    <tr>\n",
       "      <th>1</th>\n",
       "      <td>1</td>\n",
       "      <td>يشفع له قربه من الحرم لم يعجبني شي سوا موقعه و...</td>\n",
       "    </tr>\n",
       "    <tr>\n",
       "      <th>2</th>\n",
       "      <td>1</td>\n",
       "      <td>أقدر جهود الكاتب الصحفية التي بدت واضحة وجلية ...</td>\n",
       "    </tr>\n",
       "    <tr>\n",
       "      <th>3</th>\n",
       "      <td>1</td>\n",
       "      <td>في تسويق النظام الاشتراكي المرأة مثالا</td>\n",
       "    </tr>\n",
       "    <tr>\n",
       "      <th>4</th>\n",
       "      <td>1</td>\n",
       "      <td>عموما الرواية كويسة بس انا حسيت انى تائهه الرب...</td>\n",
       "    </tr>\n",
       "  </tbody>\n",
       "</table>\n",
       "</div>"
      ],
      "text/plain": [
       "  label                                               text\n",
       "0     1            كتاب ممل للغاية لدرجة إنى ماقدرتش أكمله\n",
       "1     1  يشفع له قربه من الحرم لم يعجبني شي سوا موقعه و...\n",
       "2     1  أقدر جهود الكاتب الصحفية التي بدت واضحة وجلية ...\n",
       "3     1             في تسويق النظام الاشتراكي المرأة مثالا\n",
       "4     1  عموما الرواية كويسة بس انا حسيت انى تائهه الرب..."
      ]
     },
     "execution_count": 17,
     "metadata": {},
     "output_type": "execute_result"
    }
   ],
   "source": [
    "data.head(5)"
   ]
  },
  {
   "cell_type": "markdown",
   "id": "2e9fff2f",
   "metadata": {},
   "source": [
    "# Tokenization"
   ]
  },
  {
   "cell_type": "code",
   "execution_count": 18,
   "id": "19f51d5d",
   "metadata": {},
   "outputs": [
    {
     "name": "stdout",
     "output_type": "stream",
     "text": [
      "The Max Length of Sentience is -->  1616\n",
      "The Length of Words is -->  270282\n"
     ]
    }
   ],
   "source": [
    "tokenize = Tokenizer()\n",
    "tokenize.fit_on_texts(X)\n",
    "\n",
    "sequances = tokenize.texts_to_sequences(X)\n",
    "max_len = max([len(sent) for sent in sequances])\n",
    "pad_seq = pad_sequences(sequances, maxlen=max_len, truncating=\"pre\", padding=\"pre\")\n",
    "\n",
    "word_index = tokenize.word_index\n",
    "word_length = len(word_index) + 1\n",
    "print(\"The Max Length of Sentience is --> \", max_len)\n",
    "print(\"The Length of Words is --> \", word_length)"
   ]
  },
  {
   "cell_type": "code",
   "execution_count": 19,
   "id": "ee41a86c",
   "metadata": {},
   "outputs": [
    {
     "data": {
      "text/plain": [
       "(66666, 270282, 1616)"
      ]
     },
     "execution_count": 19,
     "metadata": {},
     "output_type": "execute_result"
    }
   ],
   "source": [
    "len(pad_seq), word_length, max_len"
   ]
  },
  {
   "cell_type": "markdown",
   "id": "42624d49",
   "metadata": {},
   "source": [
    "# Transform Labels From Encoder to OHE"
   ]
  },
  {
   "cell_type": "code",
   "execution_count": 20,
   "id": "34635e74",
   "metadata": {},
   "outputs": [
    {
     "data": {
      "text/plain": [
       "array([[0., 1.],\n",
       "       [0., 1.],\n",
       "       [0., 1.],\n",
       "       [0., 1.]], dtype=float32)"
      ]
     },
     "execution_count": 20,
     "metadata": {},
     "output_type": "execute_result"
    }
   ],
   "source": [
    "labels = to_categorical(Y, 2)\n",
    "labels[1:5]"
   ]
  },
  {
   "cell_type": "markdown",
   "id": "89461852",
   "metadata": {},
   "source": [
    "# Splitting Data To Training & Testing"
   ]
  },
  {
   "cell_type": "code",
   "execution_count": 21,
   "id": "2e1dc6eb",
   "metadata": {},
   "outputs": [],
   "source": [
    "x_train, x_test, y_train, y_test = train_test_split(pad_seq, labels, train_size=0.7, random_state=42)"
   ]
  },
  {
   "cell_type": "code",
   "execution_count": 22,
   "id": "00f09c16",
   "metadata": {},
   "outputs": [
    {
     "data": {
      "text/plain": [
       "array([0., 1.], dtype=float32)"
      ]
     },
     "execution_count": 22,
     "metadata": {},
     "output_type": "execute_result"
    }
   ],
   "source": [
    "y_train[0]"
   ]
  },
  {
   "cell_type": "markdown",
   "id": "8582acae",
   "metadata": {},
   "source": [
    "# Building Model"
   ]
  },
  {
   "cell_type": "code",
   "execution_count": 23,
   "id": "f1e8be29",
   "metadata": {},
   "outputs": [
    {
     "name": "stdout",
     "output_type": "stream",
     "text": [
      "Model: \"sequential\"\n",
      "_________________________________________________________________\n",
      " Layer (type)                Output Shape              Param #   \n",
      "=================================================================\n",
      " embedding (Embedding)       (None, 1616, 200)         54056400  \n",
      "                                                                 \n",
      " global_average_pooling1d (G  (None, 200)              0         \n",
      " lobalAveragePooling1D)                                          \n",
      "                                                                 \n",
      " dense (Dense)               (None, 128)               25728     \n",
      "                                                                 \n",
      " dropout (Dropout)           (None, 128)               0         \n",
      "                                                                 \n",
      " dense_1 (Dense)             (None, 2)                 258       \n",
      "                                                                 \n",
      "=================================================================\n",
      "Total params: 54,082,386\n",
      "Trainable params: 54,082,386\n",
      "Non-trainable params: 0\n",
      "_________________________________________________________________\n"
     ]
    }
   ],
   "source": [
    "model = k.models.Sequential([\n",
    "    Embedding(word_length, 200, input_length=max_len),\n",
    "    GlobalAveragePooling1D(),\n",
    "    Dense(128, activation=\"relu\"),\n",
    "    Dropout(0.2),\n",
    "    Dense(2, activation=\"softmax\")\n",
    "])\n",
    "\n",
    "model.compile(optimizer=\"adam\", loss=\"categorical_crossentropy\", metrics=[\"accuracy\"])\n",
    "model.summary()"
   ]
  },
  {
   "cell_type": "code",
   "execution_count": 24,
   "id": "7143e7cf",
   "metadata": {},
   "outputs": [
    {
     "name": "stdout",
     "output_type": "stream",
     "text": [
      "Epoch 1/10\n",
      "1459/1459 [==============================] - 61s 41ms/step - loss: 0.6491 - accuracy: 0.5779 - val_loss: 0.4778 - val_accuracy: 0.7588\n",
      "Epoch 2/10\n",
      "1459/1459 [==============================] - 60s 41ms/step - loss: 0.3635 - accuracy: 0.8394 - val_loss: 0.3800 - val_accuracy: 0.8234\n",
      "Epoch 3/10\n",
      "1459/1459 [==============================] - 60s 41ms/step - loss: 0.2630 - accuracy: 0.8892 - val_loss: 0.3490 - val_accuracy: 0.8492\n",
      "Epoch 4/10\n",
      "1459/1459 [==============================] - 60s 41ms/step - loss: 0.2083 - accuracy: 0.9158 - val_loss: 0.4400 - val_accuracy: 0.8223\n",
      "Epoch 5/10\n",
      "1459/1459 [==============================] - 60s 41ms/step - loss: 0.1742 - accuracy: 0.9308 - val_loss: 0.4407 - val_accuracy: 0.8339\n",
      "Epoch 6/10\n",
      "1459/1459 [==============================] - 60s 41ms/step - loss: 0.1434 - accuracy: 0.9462 - val_loss: 0.4356 - val_accuracy: 0.8443\n",
      "Epoch 7/10\n",
      "1459/1459 [==============================] - 61s 42ms/step - loss: 0.1199 - accuracy: 0.9552 - val_loss: 0.4716 - val_accuracy: 0.8480\n",
      "Epoch 8/10\n",
      "1459/1459 [==============================] - 60s 41ms/step - loss: 0.1054 - accuracy: 0.9601 - val_loss: 0.5907 - val_accuracy: 0.8324\n",
      "Epoch 9/10\n",
      "1459/1459 [==============================] - 60s 41ms/step - loss: 0.0938 - accuracy: 0.9653 - val_loss: 0.5681 - val_accuracy: 0.8400\n",
      "Epoch 10/10\n",
      "1459/1459 [==============================] - 60s 41ms/step - loss: 0.0886 - accuracy: 0.9669 - val_loss: 0.8795 - val_accuracy: 0.7789\n"
     ]
    }
   ],
   "source": [
    "history = model.fit(x_train, y_train, epochs=10, validation_data=(x_test, y_test))"
   ]
  },
  {
   "cell_type": "code",
   "execution_count": 25,
   "id": "f0c4c274",
   "metadata": {},
   "outputs": [
    {
     "data": {
      "image/png": "[encoded data removed]",
      "text/plain": [
       "<Figure size 640x480 with 1 Axes>"
      ]
     },
     "metadata": {},
     "output_type": "display_data"
    }
   ],
   "source": [
    "plt.plot(history.history[\"loss\"], label=\"Loss\")\n",
    "plt.plot(history.history[\"val_loss\"], label=\"Val_Loss\")\n",
    "\n",
    "plt.xlabel(\"Epochs\")\n",
    "plt.ylabel(\"Loss\")\n",
    "\n",
    "plt.title(\"Loss Vs Epochs\")\n",
    "\n",
    "plt.legend()\n",
    "plt.grid()"
   ]
  },
  {
   "cell_type": "code",
   "execution_count": 26,
   "id": "8049706c",
   "metadata": {},
   "outputs": [
    {
     "data": {
      "image/png": "[encoded data removed]",
      "text/plain": [
       "<Figure size 640x480 with 1 Axes>"
      ]
     },
     "metadata": {},
     "output_type": "display_data"
    }
   ],
   "source": [
    "plt.plot(history.history[\"accuracy\"], label=\"accuracy\")\n",
    "plt.plot(history.history[\"val_accuracy\"], label=\"val_accuracy\")\n",
    "\n",
    "plt.xlabel(\"Epochs\")\n",
    "plt.ylabel(\"Accuracy\")\n",
    "\n",
    "plt.title(\"Accuracy Vs Epochs\")\n",
    "\n",
    "plt.legend()\n",
    "plt.grid()"
   ]
  },
  {
   "cell_type": "markdown",
   "id": "a867fb4e",
   "metadata": {},
   "source": [
    "# Download Model"
   ]
  },
  {
   "cell_type": "code",
   "execution_count": 27,
   "id": "b6b8cd3c",
   "metadata": {},
   "outputs": [
    {
     "name": "stdout",
     "output_type": "stream",
     "text": [
      "INFO:tensorflow:Assets written to: ram://e1a238bf-a5e4-4672-8f36-3fb71a9a652e/assets\n"
     ]
    }
   ],
   "source": [
    "pickle.dump(model, open(r\"D:\\Pycharm\\model_pickle\\NLP - Models\\Arabic-sentiement-Analysis.bin\", \"wb\"))"
   ]
  },
  {
   "cell_type": "markdown",
   "id": "a4dea747",
   "metadata": {},
   "source": [
    "# System"
   ]
  },
  {
   "cell_type": "code",
   "execution_count": 39,
   "id": "1718a8ca",
   "metadata": {},
   "outputs": [
    {
     "name": "stdout",
     "output_type": "stream",
     "text": [
      "المنتج سئ جدا وخرا\n",
      "1/1 [==============================] - 0s 15ms/step\n",
      "The Good\n"
     ]
    }
   ],
   "source": [
    "sentence = input()\n",
    "\n",
    "for i in punc:\n",
    "    if i in sentence:sentence = sentence.replace(i, \"\")\n",
    "        \n",
    "new_seq = tokenize.texts_to_sequences([sentence])\n",
    "new_pad_seq = pad_sequences(new_seq, maxlen=max_len)\n",
    "\n",
    "if np.argmax(model.predict(new_pad_seq)) == 0: print(\"The Good\")\n",
    "else: print(\"THe Bad\")"
   ]
  },
  {
   "cell_type": "code",
   "execution_count": null,
   "id": "cfaef528",
   "metadata": {},
   "outputs": [],
   "source": []
  }
 ],
 "metadata": {
  "kernelspec": {
   "display_name": "Python 3 (ipykernel)",
   "language": "python",
   "name": "python3"
  },
  "language_info": {
   "codemirror_mode": {
    "name": "ipython",
    "version": 3
   },
   "file_extension": ".py",
   "mimetype": "text/x-python",
   "name": "python",
   "nbconvert_exporter": "python",
   "pygments_lexer": "ipython3",
   "version": "3.10.9"
  }
 },
 "nbformat": 4,
 "nbformat_minor": 5
}
