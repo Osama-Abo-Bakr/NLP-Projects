{
 "cells": [
  {
   "cell_type": "markdown",
   "id": "8765bee1",
   "metadata": {},
   "source": [
    "# Main library"
   ]
  },
  {
   "cell_type": "code",
   "execution_count": 1,
   "id": "6d3e22ae",
   "metadata": {},
   "outputs": [],
   "source": [
    "# Reading Data\n",
    "import pandas as pd\n",
    "import numpy as np\n",
    "import matplotlib.pyplot as plt\n",
    "import seaborn as sns\n",
    "\n",
    "# Data Preprocessing\n",
    "import string, nltk, re\n",
    "from nltk.corpus import stopwords\n",
    "from nltk.tokenize import word_tokenize\n",
    "from nltk.stem import WordNetLemmatizer\n",
    "from tensorflow.keras.utils import to_categorical\n",
    "from tensorflow.keras.preprocessing.text import Tokenizer\n",
    "from tensorflow.keras.preprocessing.sequence import pad_sequences\n",
    "from sklearn.model_selection import train_test_split\n",
    "\n",
    "# Building Deep Learning model\n",
    "from tensorflow.keras.layers import Dense, Embedding, Dropout, GlobalAveragePooling1D\n",
    "import tensorflow.keras as k"
   ]
  },
  {
   "cell_type": "markdown",
   "id": "fbfb234a",
   "metadata": {},
   "source": [
    "# Reading Data"
   ]
  },
  {
   "cell_type": "code",
   "execution_count": 2,
   "id": "64e6ced8",
   "metadata": {},
   "outputs": [
    {
     "data": {
      "text/html": [
       "<div>\n",
       "<style scoped>\n",
       "    .dataframe tbody tr th:only-of-type {\n",
       "        vertical-align: middle;\n",
       "    }\n",
       "\n",
       "    .dataframe tbody tr th {\n",
       "        vertical-align: top;\n",
       "    }\n",
       "\n",
       "    .dataframe thead th {\n",
       "        text-align: right;\n",
       "    }\n",
       "</style>\n",
       "<table border=\"1\" class=\"dataframe\">\n",
       "  <thead>\n",
       "    <tr style=\"text-align: right;\">\n",
       "      <th></th>\n",
       "      <th>review</th>\n",
       "      <th>sentiment</th>\n",
       "    </tr>\n",
       "  </thead>\n",
       "  <tbody>\n",
       "    <tr>\n",
       "      <th>0</th>\n",
       "      <td>One of the other reviewers has mentioned that ...</td>\n",
       "      <td>positive</td>\n",
       "    </tr>\n",
       "    <tr>\n",
       "      <th>1</th>\n",
       "      <td>A wonderful little production. &lt;br /&gt;&lt;br /&gt;The...</td>\n",
       "      <td>positive</td>\n",
       "    </tr>\n",
       "    <tr>\n",
       "      <th>2</th>\n",
       "      <td>I thought this was a wonderful way to spend ti...</td>\n",
       "      <td>positive</td>\n",
       "    </tr>\n",
       "    <tr>\n",
       "      <th>3</th>\n",
       "      <td>Basically there's a family where a little boy ...</td>\n",
       "      <td>negative</td>\n",
       "    </tr>\n",
       "    <tr>\n",
       "      <th>4</th>\n",
       "      <td>Petter Mattei's \"Love in the Time of Money\" is...</td>\n",
       "      <td>positive</td>\n",
       "    </tr>\n",
       "  </tbody>\n",
       "</table>\n",
       "</div>"
      ],
      "text/plain": [
       "                                              review sentiment\n",
       "0  One of the other reviewers has mentioned that ...  positive\n",
       "1  A wonderful little production. <br /><br />The...  positive\n",
       "2  I thought this was a wonderful way to spend ti...  positive\n",
       "3  Basically there's a family where a little boy ...  negative\n",
       "4  Petter Mattei's \"Love in the Time of Money\" is...  positive"
      ]
     },
     "execution_count": 2,
     "metadata": {},
     "output_type": "execute_result"
    }
   ],
   "source": [
    "data = pd.read_csv(r\"D:\\Courses language programming\\11_Natural Language Processing\\Projects For NLP\\Data\\IMDB Dataset of 50K Movie Reviews\\IMDB Dataset.csv\")\n",
    "data.head(5)"
   ]
  },
  {
   "cell_type": "code",
   "execution_count": 3,
   "id": "995d0f3b",
   "metadata": {},
   "outputs": [
    {
     "data": {
      "text/plain": [
       "(50000, 2)"
      ]
     },
     "execution_count": 3,
     "metadata": {},
     "output_type": "execute_result"
    }
   ],
   "source": [
    "data.shape"
   ]
  },
  {
   "cell_type": "code",
   "execution_count": 4,
   "id": "8a972df5",
   "metadata": {},
   "outputs": [],
   "source": [
    "data = data.loc[10000:20000]"
   ]
  },
  {
   "cell_type": "code",
   "execution_count": 5,
   "id": "58ad9127",
   "metadata": {},
   "outputs": [
    {
     "data": {
      "text/plain": [
       "review       0\n",
       "sentiment    0\n",
       "dtype: int64"
      ]
     },
     "execution_count": 5,
     "metadata": {},
     "output_type": "execute_result"
    }
   ],
   "source": [
    "data.isnull().sum()"
   ]
  },
  {
   "cell_type": "markdown",
   "id": "a91bdb97",
   "metadata": {},
   "source": [
    "# Make Encoder ==> Data "
   ]
  },
  {
   "cell_type": "code",
   "execution_count": 6,
   "id": "0cfffd78",
   "metadata": {},
   "outputs": [],
   "source": [
    "data.loc[data[\"sentiment\"] == \"positive\", \"sentiment\"] = 1\n",
    "data.loc[data[\"sentiment\"] == \"negative\", \"sentiment\"] = 0"
   ]
  },
  {
   "cell_type": "code",
   "execution_count": 7,
   "id": "0726afd9",
   "metadata": {},
   "outputs": [
    {
     "data": {
      "text/html": [
       "<div>\n",
       "<style scoped>\n",
       "    .dataframe tbody tr th:only-of-type {\n",
       "        vertical-align: middle;\n",
       "    }\n",
       "\n",
       "    .dataframe tbody tr th {\n",
       "        vertical-align: top;\n",
       "    }\n",
       "\n",
       "    .dataframe thead th {\n",
       "        text-align: right;\n",
       "    }\n",
       "</style>\n",
       "<table border=\"1\" class=\"dataframe\">\n",
       "  <thead>\n",
       "    <tr style=\"text-align: right;\">\n",
       "      <th></th>\n",
       "      <th>review</th>\n",
       "      <th>sentiment</th>\n",
       "    </tr>\n",
       "  </thead>\n",
       "  <tbody>\n",
       "    <tr>\n",
       "      <th>10000</th>\n",
       "      <td>\" While sporadically engrossing (including a f...</td>\n",
       "      <td>0</td>\n",
       "    </tr>\n",
       "    <tr>\n",
       "      <th>10001</th>\n",
       "      <td>A French novelist, disgusted by his wife's soc...</td>\n",
       "      <td>1</td>\n",
       "    </tr>\n",
       "    <tr>\n",
       "      <th>10002</th>\n",
       "      <td>It must be remembered that the Gammera movies,...</td>\n",
       "      <td>0</td>\n",
       "    </tr>\n",
       "    <tr>\n",
       "      <th>10003</th>\n",
       "      <td>I gave this film 8 out of 10, reserving 10 for...</td>\n",
       "      <td>1</td>\n",
       "    </tr>\n",
       "    <tr>\n",
       "      <th>10004</th>\n",
       "      <td>Cheap, gloriously bad cheese from the 80's, th...</td>\n",
       "      <td>0</td>\n",
       "    </tr>\n",
       "  </tbody>\n",
       "</table>\n",
       "</div>"
      ],
      "text/plain": [
       "                                                  review sentiment\n",
       "10000  \" While sporadically engrossing (including a f...         0\n",
       "10001  A French novelist, disgusted by his wife's soc...         1\n",
       "10002  It must be remembered that the Gammera movies,...         0\n",
       "10003  I gave this film 8 out of 10, reserving 10 for...         1\n",
       "10004  Cheap, gloriously bad cheese from the 80's, th...         0"
      ]
     },
     "execution_count": 7,
     "metadata": {},
     "output_type": "execute_result"
    }
   ],
   "source": [
    "data.head(5)"
   ]
  },
  {
   "cell_type": "code",
   "execution_count": 8,
   "id": "1c4eb85e",
   "metadata": {},
   "outputs": [
    {
     "data": {
      "text/html": [
       "<div>\n",
       "<style scoped>\n",
       "    .dataframe tbody tr th:only-of-type {\n",
       "        vertical-align: middle;\n",
       "    }\n",
       "\n",
       "    .dataframe tbody tr th {\n",
       "        vertical-align: top;\n",
       "    }\n",
       "\n",
       "    .dataframe thead th {\n",
       "        text-align: right;\n",
       "    }\n",
       "</style>\n",
       "<table border=\"1\" class=\"dataframe\">\n",
       "  <thead>\n",
       "    <tr style=\"text-align: right;\">\n",
       "      <th></th>\n",
       "      <th>review</th>\n",
       "      <th>sentiment</th>\n",
       "    </tr>\n",
       "  </thead>\n",
       "  <tbody>\n",
       "    <tr>\n",
       "      <th>10000</th>\n",
       "      <td>\" While sporadically engrossing (including a f...</td>\n",
       "      <td>0</td>\n",
       "    </tr>\n",
       "    <tr>\n",
       "      <th>10001</th>\n",
       "      <td>A French novelist, disgusted by his wife's soc...</td>\n",
       "      <td>1</td>\n",
       "    </tr>\n",
       "  </tbody>\n",
       "</table>\n",
       "</div>"
      ],
      "text/plain": [
       "                                                  review sentiment\n",
       "10000  \" While sporadically engrossing (including a f...         0\n",
       "10001  A French novelist, disgusted by his wife's soc...         1"
      ]
     },
     "execution_count": 8,
     "metadata": {},
     "output_type": "execute_result"
    }
   ],
   "source": [
    "data.head(2)"
   ]
  },
  {
   "cell_type": "markdown",
   "id": "ad33fb01",
   "metadata": {},
   "source": [
    "# Make Analysis To Text & Remove punctuation & Stopwords "
   ]
  },
  {
   "cell_type": "code",
   "execution_count": 9,
   "id": "1cfa0937",
   "metadata": {},
   "outputs": [],
   "source": [
    "punc = list(string.punctuation)\n",
    "stop_word = stopwords.words(\"english\")\n",
    "lemma = WordNetLemmatizer()"
   ]
  },
  {
   "cell_type": "code",
   "execution_count": 10,
   "id": "c2375885",
   "metadata": {},
   "outputs": [],
   "source": [
    "# def Analysis_text(data):\n",
    "#     data = data.lower()\n",
    "#     data = [lemma.lemmatize(word) for word in word_tokenize(data) if (word not in punc) and (word not in stop_word)]\n",
    "#     data = \" \".join(data)\n",
    "    \n",
    "#     return data\n",
    "\n",
    "def Analysis_text(data):\n",
    "    data = data.lower()\n",
    "    data = [word for word in word_tokenize(data) if (word not in punc) and (word not in stop_word)]\n",
    "    data = \" \".join(data)\n",
    "    \n",
    "    return data"
   ]
  },
  {
   "cell_type": "code",
   "execution_count": 11,
   "id": "1ec6a65c",
   "metadata": {},
   "outputs": [],
   "source": [
    "data[\"review\"] = data[\"review\"].apply(Analysis_text)"
   ]
  },
  {
   "cell_type": "code",
   "execution_count": 12,
   "id": "2a3539f9",
   "metadata": {},
   "outputs": [
    {
     "data": {
      "text/html": [
       "<div>\n",
       "<style scoped>\n",
       "    .dataframe tbody tr th:only-of-type {\n",
       "        vertical-align: middle;\n",
       "    }\n",
       "\n",
       "    .dataframe tbody tr th {\n",
       "        vertical-align: top;\n",
       "    }\n",
       "\n",
       "    .dataframe thead th {\n",
       "        text-align: right;\n",
       "    }\n",
       "</style>\n",
       "<table border=\"1\" class=\"dataframe\">\n",
       "  <thead>\n",
       "    <tr style=\"text-align: right;\">\n",
       "      <th></th>\n",
       "      <th>review</th>\n",
       "      <th>sentiment</th>\n",
       "    </tr>\n",
       "  </thead>\n",
       "  <tbody>\n",
       "    <tr>\n",
       "      <th>10000</th>\n",
       "      <td>`` sporadically engrossing including effective...</td>\n",
       "      <td>0</td>\n",
       "    </tr>\n",
       "    <tr>\n",
       "      <th>10001</th>\n",
       "      <td>french novelist disgusted wife 's society frie...</td>\n",
       "      <td>1</td>\n",
       "    </tr>\n",
       "    <tr>\n",
       "      <th>10002</th>\n",
       "      <td>must remembered gammera movies like many first...</td>\n",
       "      <td>0</td>\n",
       "    </tr>\n",
       "    <tr>\n",
       "      <th>10003</th>\n",
       "      <td>gave film 8 10 reserving 10 e.g amadeus 9 slum...</td>\n",
       "      <td>1</td>\n",
       "    </tr>\n",
       "    <tr>\n",
       "      <th>10004</th>\n",
       "      <td>cheap gloriously bad cheese 80 's decade chees...</td>\n",
       "      <td>0</td>\n",
       "    </tr>\n",
       "  </tbody>\n",
       "</table>\n",
       "</div>"
      ],
      "text/plain": [
       "                                                  review sentiment\n",
       "10000  `` sporadically engrossing including effective...         0\n",
       "10001  french novelist disgusted wife 's society frie...         1\n",
       "10002  must remembered gammera movies like many first...         0\n",
       "10003  gave film 8 10 reserving 10 e.g amadeus 9 slum...         1\n",
       "10004  cheap gloriously bad cheese 80 's decade chees...         0"
      ]
     },
     "execution_count": 12,
     "metadata": {},
     "output_type": "execute_result"
    }
   ],
   "source": [
    "data.head(5)"
   ]
  },
  {
   "cell_type": "code",
   "execution_count": 13,
   "id": "ccd7bae1",
   "metadata": {},
   "outputs": [],
   "source": [
    "X = data[\"review\"]\n",
    "Y = data[\"sentiment\"]"
   ]
  },
  {
   "cell_type": "markdown",
   "id": "322bb4ad",
   "metadata": {},
   "source": [
    "# Make one hot encoder To Y(Output)"
   ]
  },
  {
   "cell_type": "code",
   "execution_count": 14,
   "id": "17b1ee48",
   "metadata": {},
   "outputs": [
    {
     "data": {
      "text/plain": [
       "array([1., 0.], dtype=float32)"
      ]
     },
     "execution_count": 14,
     "metadata": {},
     "output_type": "execute_result"
    }
   ],
   "source": [
    "label = to_categorical(Y, 2)\n",
    "label[0]"
   ]
  },
  {
   "cell_type": "markdown",
   "id": "f6774229",
   "metadata": {},
   "source": [
    "# Make Tokenization"
   ]
  },
  {
   "cell_type": "code",
   "execution_count": 15,
   "id": "1c1df51d",
   "metadata": {},
   "outputs": [
    {
     "name": "stdout",
     "output_type": "stream",
     "text": [
      "The MAx Length Sentence is -->  964\n",
      "The Shape Of Padding Data -->  (10001, 964)\n"
     ]
    }
   ],
   "source": [
    "tokenize = Tokenizer()\n",
    "tokenize.fit_on_texts(X)\n",
    "\n",
    "token_seq = tokenize.texts_to_sequences(X)\n",
    "max_sen = max([len(i) for i in token_seq])\n",
    "\n",
    "pad_data = pad_sequences(token_seq, maxlen=max_sen, padding=\"pre\")\n",
    "\n",
    "print(\"The MAx Length Sentence is --> \", max_sen)\n",
    "print(\"The Shape Of Padding Data --> \", pad_data.shape)"
   ]
  },
  {
   "cell_type": "code",
   "execution_count": 16,
   "id": "5aaa6b69",
   "metadata": {},
   "outputs": [
    {
     "name": "stdout",
     "output_type": "stream",
     "text": [
      "The Length Of Vocab Size is -->  53942\n"
     ]
    }
   ],
   "source": [
    "voc_size = len(tokenize.word_index) + 1\n",
    "\n",
    "print(\"The Length Of Vocab Size is --> \", voc_size)"
   ]
  },
  {
   "cell_type": "markdown",
   "id": "dd4ffe62",
   "metadata": {},
   "source": [
    "# Splitting Data to Training & Testing"
   ]
  },
  {
   "cell_type": "code",
   "execution_count": 17,
   "id": "fa240bc8",
   "metadata": {},
   "outputs": [],
   "source": [
    "x_train, x_test, y_train, y_test = train_test_split(pad_data, label, train_size=0.7)"
   ]
  },
  {
   "cell_type": "markdown",
   "id": "14182987",
   "metadata": {},
   "source": [
    "# Building Deep Learning Model"
   ]
  },
  {
   "cell_type": "code",
   "execution_count": 18,
   "id": "8fde8a32",
   "metadata": {},
   "outputs": [
    {
     "name": "stdout",
     "output_type": "stream",
     "text": [
      "Model: \"sequential\"\n",
      "_________________________________________________________________\n",
      " Layer (type)                Output Shape              Param #   \n",
      "=================================================================\n",
      " embedding (Embedding)       (None, 964, 964)          52000088  \n",
      "                                                                 \n",
      " global_average_pooling1d (G  (None, 964)              0         \n",
      " lobalAveragePooling1D)                                          \n",
      "                                                                 \n",
      " dense (Dense)               (None, 2)                 1930      \n",
      "                                                                 \n",
      "=================================================================\n",
      "Total params: 52,002,018\n",
      "Trainable params: 52,002,018\n",
      "Non-trainable params: 0\n",
      "_________________________________________________________________\n"
     ]
    }
   ],
   "source": [
    "# model = k.models.Sequential([\n",
    "#     Embedding(voc_size, max_sen, input_length=max_sen),\n",
    "#     GlobalAveragePooling1D(),\n",
    "#     Dense(128, activation=\"relu\"),\n",
    "#     Dropout(0.2),\n",
    "#     Dense(2, activation=\"softmax\")\n",
    "# ])\n",
    "\n",
    "# model.compile(optimizer=\"adam\", loss=\"categorical_crossentropy\", metrics=[\"accuracy\"])\n",
    "# model.summary()\n",
    "\n",
    "\n",
    "model = k.models.Sequential([\n",
    "    Embedding(voc_size, max_sen, input_length=max_sen),\n",
    "    GlobalAveragePooling1D(),\n",
    "\n",
    "    Dense(2, activation=\"softmax\")\n",
    "])\n",
    "\n",
    "model.compile(optimizer=\"adam\", loss=\"categorical_crossentropy\", metrics=[\"accuracy\"])\n",
    "model.summary()"
   ]
  },
  {
   "cell_type": "code",
   "execution_count": 20,
   "id": "ceb35a6c",
   "metadata": {},
   "outputs": [
    {
     "name": "stdout",
     "output_type": "stream",
     "text": [
      "Epoch 1/10\n",
      "219/219 [==============================] - 10s 44ms/step - loss: 0.6589 - accuracy: 0.6570 - val_loss: 0.6038 - val_accuracy: 0.7851\n",
      "Epoch 2/10\n",
      "219/219 [==============================] - 10s 44ms/step - loss: 0.5083 - accuracy: 0.8077 - val_loss: 0.4564 - val_accuracy: 0.8421\n",
      "Epoch 3/10\n",
      "219/219 [==============================] - 10s 44ms/step - loss: 0.3512 - accuracy: 0.8966 - val_loss: 0.3760 - val_accuracy: 0.8590\n",
      "Epoch 4/10\n",
      "219/219 [==============================] - 10s 44ms/step - loss: 0.2583 - accuracy: 0.9240 - val_loss: 0.3322 - val_accuracy: 0.8674\n",
      "Epoch 5/10\n",
      "219/219 [==============================] - 10s 44ms/step - loss: 0.1996 - accuracy: 0.9430 - val_loss: 0.3170 - val_accuracy: 0.8784\n",
      "Epoch 6/10\n",
      "219/219 [==============================] - 10s 44ms/step - loss: 0.1534 - accuracy: 0.9614 - val_loss: 0.3061 - val_accuracy: 0.8767\n",
      "Epoch 7/10\n",
      "219/219 [==============================] - 10s 44ms/step - loss: 0.1212 - accuracy: 0.9714 - val_loss: 0.3046 - val_accuracy: 0.8777\n",
      "Epoch 8/10\n",
      "219/219 [==============================] - 10s 44ms/step - loss: 0.0993 - accuracy: 0.9767 - val_loss: 0.3080 - val_accuracy: 0.8817\n",
      "Epoch 9/10\n",
      "219/219 [==============================] - 10s 44ms/step - loss: 0.0822 - accuracy: 0.9824 - val_loss: 0.3170 - val_accuracy: 0.8757\n",
      "Epoch 10/10\n",
      "219/219 [==============================] - 10s 44ms/step - loss: 0.0669 - accuracy: 0.9873 - val_loss: 0.3220 - val_accuracy: 0.8784\n"
     ]
    }
   ],
   "source": [
    "history = model.fit(x_train, y_train, epochs=10, validation_data=(x_test, y_test))"
   ]
  },
  {
   "cell_type": "code",
   "execution_count": 21,
   "id": "6fe9fa92",
   "metadata": {},
   "outputs": [
    {
     "data": {
      "image/png": "[encoded data removed]",
      "text/plain": [
       "<Figure size 640x480 with 1 Axes>"
      ]
     },
     "metadata": {},
     "output_type": "display_data"
    }
   ],
   "source": [
    "plt.plot(history.history[\"loss\"], label=\"Loss\")\n",
    "plt.plot(history.history[\"val_loss\"], label=\"Val_Loss\")\n",
    "\n",
    "plt.xlabel(\"Epochs\")\n",
    "plt.ylabel(\"Loss\")\n",
    "\n",
    "plt.title(\"Loss Vs Epochs\")\n",
    "\n",
    "plt.legend()\n",
    "plt.grid()"
   ]
  },
  {
   "cell_type": "code",
   "execution_count": 22,
   "id": "2936e274",
   "metadata": {},
   "outputs": [
    {
     "data": {
      "image/png": "[encoded data removed]",
      "text/plain": [
       "<Figure size 640x480 with 1 Axes>"
      ]
     },
     "metadata": {},
     "output_type": "display_data"
    }
   ],
   "source": [
    "plt.plot(history.history[\"accuracy\"], label=\"accuracy\")\n",
    "plt.plot(history.history[\"val_accuracy\"], label=\"val_accuracy\")\n",
    "\n",
    "plt.xlabel(\"Epochs\")\n",
    "plt.ylabel(\"Accuracy\")\n",
    "\n",
    "plt.title(\"Accuracy Vs Epochs\")\n",
    "\n",
    "plt.legend()\n",
    "plt.grid()"
   ]
  },
  {
   "cell_type": "code",
   "execution_count": null,
   "id": "ee6c1635",
   "metadata": {},
   "outputs": [],
   "source": []
  }
 ],
 "metadata": {
  "kernelspec": {
   "display_name": "Python 3 (ipykernel)",
   "language": "python",
   "name": "python3"
  },
  "language_info": {
   "codemirror_mode": {
    "name": "ipython",
    "version": 3
   },
   "file_extension": ".py",
   "mimetype": "text/x-python",
   "name": "python",
   "nbconvert_exporter": "python",
   "pygments_lexer": "ipython3",
   "version": "3.10.9"
  }
 },
 "nbformat": 4,
 "nbformat_minor": 5
}
