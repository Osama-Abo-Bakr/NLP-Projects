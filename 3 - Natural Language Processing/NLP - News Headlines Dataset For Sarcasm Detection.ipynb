{
 "cells": [
  {
   "cell_type": "markdown",
   "id": "a8299e7d",
   "metadata": {},
   "source": [
    "# Main Library"
   ]
  },
  {
   "cell_type": "code",
   "execution_count": 1,
   "id": "c4bcebb4",
   "metadata": {},
   "outputs": [],
   "source": [
    "# Reading Data\n",
    "import json, os\n",
    "import numpy as np\n",
    "import pandas as pd\n",
    "import matplotlib.pyplot as plt\n",
    "\n",
    "# Data Preprocessing \n",
    "import re, nltk, string\n",
    "from nltk.corpus import stopwords\n",
    "from nltk.tokenize import word_tokenize\n",
    "from nltk.stem import WordNetLemmatizer\n",
    "from tensorflow.keras.utils import to_categorical\n",
    "from sklearn.model_selection import train_test_split\n",
    "from tensorflow.keras.preprocessing.text import Tokenizer\n",
    "from tensorflow.keras.preprocessing.sequence import pad_sequences\n",
    "\n",
    "# Building Model\n",
    "from tensorflow.keras.layers import Dense, Embedding, LSTM, Bidirectional, GlobalAveragePooling1D\n",
    "import tensorflow.keras as k\n",
    "\n",
    "# Download Model\n",
    "import pickle"
   ]
  },
  {
   "cell_type": "markdown",
   "id": "cfb6726c",
   "metadata": {},
   "source": [
    "# Reading Data"
   ]
  },
  {
   "cell_type": "code",
   "execution_count": 2,
   "id": "3f3c0847",
   "metadata": {},
   "outputs": [],
   "source": [
    "# with open(r\"D:\\Courses language programming\\Natural Language Processing\\Projects For NLP\\Data\\News Headlines Dataset For Sarcasm Detection\\Sarcasm_Headlines_Dataset.json\", 'r') as f:\n",
    "#     datastore = json.load(f)\n",
    "    \n",
    "# sentence = []\n",
    "# urls = []\n",
    "# labels = []\n",
    "\n",
    "# for item in datastore:\n",
    "#     sentence.append(item[\"headline\"])\n",
    "#     urls.append(item[\"atricle_link\"])\n",
    "#     labels.append(item[\"is_sarcastic\"])\n",
    "    \n",
    "    \n",
    "# sentense[:5]"
   ]
  },
  {
   "cell_type": "code",
   "execution_count": 3,
   "id": "b5475922",
   "metadata": {},
   "outputs": [
    {
     "data": {
      "text/html": [
       "<div>\n",
       "<style scoped>\n",
       "    .dataframe tbody tr th:only-of-type {\n",
       "        vertical-align: middle;\n",
       "    }\n",
       "\n",
       "    .dataframe tbody tr th {\n",
       "        vertical-align: top;\n",
       "    }\n",
       "\n",
       "    .dataframe thead th {\n",
       "        text-align: right;\n",
       "    }\n",
       "</style>\n",
       "<table border=\"1\" class=\"dataframe\">\n",
       "  <thead>\n",
       "    <tr style=\"text-align: right;\">\n",
       "      <th></th>\n",
       "      <th>article_link</th>\n",
       "      <th>headline</th>\n",
       "      <th>is_sarcastic</th>\n",
       "    </tr>\n",
       "  </thead>\n",
       "  <tbody>\n",
       "    <tr>\n",
       "      <th>0</th>\n",
       "      <td>https://www.huffingtonpost.com/entry/versace-b...</td>\n",
       "      <td>former versace store clerk sues over secret 'b...</td>\n",
       "      <td>0</td>\n",
       "    </tr>\n",
       "    <tr>\n",
       "      <th>1</th>\n",
       "      <td>https://www.huffingtonpost.com/entry/roseanne-...</td>\n",
       "      <td>the 'roseanne' revival catches up to our thorn...</td>\n",
       "      <td>0</td>\n",
       "    </tr>\n",
       "    <tr>\n",
       "      <th>2</th>\n",
       "      <td>https://local.theonion.com/mom-starting-to-fea...</td>\n",
       "      <td>mom starting to fear son's web series closest ...</td>\n",
       "      <td>1</td>\n",
       "    </tr>\n",
       "    <tr>\n",
       "      <th>3</th>\n",
       "      <td>https://politics.theonion.com/boehner-just-wan...</td>\n",
       "      <td>boehner just wants wife to listen, not come up...</td>\n",
       "      <td>1</td>\n",
       "    </tr>\n",
       "    <tr>\n",
       "      <th>4</th>\n",
       "      <td>https://www.huffingtonpost.com/entry/jk-rowlin...</td>\n",
       "      <td>j.k. rowling wishes snape happy birthday in th...</td>\n",
       "      <td>0</td>\n",
       "    </tr>\n",
       "  </tbody>\n",
       "</table>\n",
       "</div>"
      ],
      "text/plain": [
       "                                        article_link  \\\n",
       "0  https://www.huffingtonpost.com/entry/versace-b...   \n",
       "1  https://www.huffingtonpost.com/entry/roseanne-...   \n",
       "2  https://local.theonion.com/mom-starting-to-fea...   \n",
       "3  https://politics.theonion.com/boehner-just-wan...   \n",
       "4  https://www.huffingtonpost.com/entry/jk-rowlin...   \n",
       "\n",
       "                                            headline  is_sarcastic  \n",
       "0  former versace store clerk sues over secret 'b...             0  \n",
       "1  the 'roseanne' revival catches up to our thorn...             0  \n",
       "2  mom starting to fear son's web series closest ...             1  \n",
       "3  boehner just wants wife to listen, not come up...             1  \n",
       "4  j.k. rowling wishes snape happy birthday in th...             0  "
      ]
     },
     "execution_count": 3,
     "metadata": {},
     "output_type": "execute_result"
    }
   ],
   "source": [
    "data = pd.read_json(r\"D:\\Courses language programming\\Natural Language Processing\\Projects For NLP\\Data\\News Headlines Dataset For Sarcasm Detection\\Sarcasm_Headlines_Dataset.json\", lines=True)\n",
    "data.head()"
   ]
  },
  {
   "cell_type": "code",
   "execution_count": 4,
   "id": "42e53f0c",
   "metadata": {},
   "outputs": [
    {
     "data": {
      "text/html": [
       "<div>\n",
       "<style scoped>\n",
       "    .dataframe tbody tr th:only-of-type {\n",
       "        vertical-align: middle;\n",
       "    }\n",
       "\n",
       "    .dataframe tbody tr th {\n",
       "        vertical-align: top;\n",
       "    }\n",
       "\n",
       "    .dataframe thead th {\n",
       "        text-align: right;\n",
       "    }\n",
       "</style>\n",
       "<table border=\"1\" class=\"dataframe\">\n",
       "  <thead>\n",
       "    <tr style=\"text-align: right;\">\n",
       "      <th></th>\n",
       "      <th>headline</th>\n",
       "      <th>is_sarcastic</th>\n",
       "    </tr>\n",
       "  </thead>\n",
       "  <tbody>\n",
       "    <tr>\n",
       "      <th>0</th>\n",
       "      <td>former versace store clerk sues over secret 'b...</td>\n",
       "      <td>0</td>\n",
       "    </tr>\n",
       "    <tr>\n",
       "      <th>1</th>\n",
       "      <td>the 'roseanne' revival catches up to our thorn...</td>\n",
       "      <td>0</td>\n",
       "    </tr>\n",
       "    <tr>\n",
       "      <th>2</th>\n",
       "      <td>mom starting to fear son's web series closest ...</td>\n",
       "      <td>1</td>\n",
       "    </tr>\n",
       "    <tr>\n",
       "      <th>3</th>\n",
       "      <td>boehner just wants wife to listen, not come up...</td>\n",
       "      <td>1</td>\n",
       "    </tr>\n",
       "    <tr>\n",
       "      <th>4</th>\n",
       "      <td>j.k. rowling wishes snape happy birthday in th...</td>\n",
       "      <td>0</td>\n",
       "    </tr>\n",
       "  </tbody>\n",
       "</table>\n",
       "</div>"
      ],
      "text/plain": [
       "                                            headline  is_sarcastic\n",
       "0  former versace store clerk sues over secret 'b...             0\n",
       "1  the 'roseanne' revival catches up to our thorn...             0\n",
       "2  mom starting to fear son's web series closest ...             1\n",
       "3  boehner just wants wife to listen, not come up...             1\n",
       "4  j.k. rowling wishes snape happy birthday in th...             0"
      ]
     },
     "execution_count": 4,
     "metadata": {},
     "output_type": "execute_result"
    }
   ],
   "source": [
    "data.drop(columns=\"article_link\", axis=1, inplace=True)\n",
    "data.head(5)"
   ]
  },
  {
   "cell_type": "code",
   "execution_count": 7,
   "id": "6fe11292",
   "metadata": {},
   "outputs": [
    {
     "data": {
      "text/plain": [
       "\"former versace store clerk sues over secret 'black code' for minority shoppers\""
      ]
     },
     "execution_count": 7,
     "metadata": {},
     "output_type": "execute_result"
    }
   ],
   "source": [
    "data[\"headline\"][0]"
   ]
  },
  {
   "cell_type": "code",
   "execution_count": 8,
   "id": "8e9276f8",
   "metadata": {},
   "outputs": [
    {
     "name": "stdout",
     "output_type": "stream",
     "text": [
      "<class 'pandas.core.frame.DataFrame'>\n",
      "RangeIndex: 26709 entries, 0 to 26708\n",
      "Data columns (total 2 columns):\n",
      " #   Column        Non-Null Count  Dtype \n",
      "---  ------        --------------  ----- \n",
      " 0   headline      26709 non-null  object\n",
      " 1   is_sarcastic  26709 non-null  int64 \n",
      "dtypes: int64(1), object(1)\n",
      "memory usage: 417.5+ KB\n"
     ]
    }
   ],
   "source": [
    "data.info()"
   ]
  },
  {
   "cell_type": "markdown",
   "id": "e4ed0be2",
   "metadata": {},
   "source": [
    "## Data Do not Have Null Value"
   ]
  },
  {
   "cell_type": "markdown",
   "id": "6247f910",
   "metadata": {},
   "source": [
    "# Preprocessing in Data"
   ]
  },
  {
   "cell_type": "markdown",
   "id": "fbebab5d",
   "metadata": {},
   "source": [
    "## Removing Stop Word And Punctuation And Make Lemmetization"
   ]
  },
  {
   "cell_type": "markdown",
   "id": "91056488",
   "metadata": {},
   "source": [
    "## 1 - Stop Words\n",
    "## 2 - Punctuation \n",
    "## 3 - Lemmatization"
   ]
  },
  {
   "cell_type": "code",
   "execution_count": 9,
   "id": "9565b944",
   "metadata": {},
   "outputs": [],
   "source": [
    "punc = list(string.punctuation)\n",
    "stop_words = stopwords.words(\"english\")\n",
    "lemma = WordNetLemmatizer()"
   ]
  },
  {
   "cell_type": "code",
   "execution_count": 10,
   "id": "b0a987e2",
   "metadata": {},
   "outputs": [],
   "source": [
    "def Process(data):\n",
    "    data.lower()\n",
    "    \n",
    "    data = \" \".join([lemma.lemmatize(word) for word in word_tokenize(data) if ((word not in punc) and (word not in stop_words))])\n",
    "    \n",
    "    data = re.sub(\"[^a-z]\", \" \", data)\n",
    "    \n",
    "    return data"
   ]
  },
  {
   "cell_type": "code",
   "execution_count": 11,
   "id": "be05d7e2",
   "metadata": {},
   "outputs": [
    {
     "data": {
      "text/html": [
       "<div>\n",
       "<style scoped>\n",
       "    .dataframe tbody tr th:only-of-type {\n",
       "        vertical-align: middle;\n",
       "    }\n",
       "\n",
       "    .dataframe tbody tr th {\n",
       "        vertical-align: top;\n",
       "    }\n",
       "\n",
       "    .dataframe thead th {\n",
       "        text-align: right;\n",
       "    }\n",
       "</style>\n",
       "<table border=\"1\" class=\"dataframe\">\n",
       "  <thead>\n",
       "    <tr style=\"text-align: right;\">\n",
       "      <th></th>\n",
       "      <th>headline</th>\n",
       "      <th>is_sarcastic</th>\n",
       "    </tr>\n",
       "  </thead>\n",
       "  <tbody>\n",
       "    <tr>\n",
       "      <th>0</th>\n",
       "      <td>former versace store clerk sue secret  black c...</td>\n",
       "      <td>0</td>\n",
       "    </tr>\n",
       "    <tr>\n",
       "      <th>1</th>\n",
       "      <td>roseanne revival catch thorny political mood ...</td>\n",
       "      <td>0</td>\n",
       "    </tr>\n",
       "    <tr>\n",
       "      <th>2</th>\n",
       "      <td>mom starting fear son  s web series closest th...</td>\n",
       "      <td>1</td>\n",
       "    </tr>\n",
       "    <tr>\n",
       "      <th>3</th>\n",
       "      <td>boehner want wife listen come alternative debt...</td>\n",
       "      <td>1</td>\n",
       "    </tr>\n",
       "    <tr>\n",
       "      <th>4</th>\n",
       "      <td>j k  rowling wish snape happy birthday magical...</td>\n",
       "      <td>0</td>\n",
       "    </tr>\n",
       "  </tbody>\n",
       "</table>\n",
       "</div>"
      ],
      "text/plain": [
       "                                            headline  is_sarcastic\n",
       "0  former versace store clerk sue secret  black c...             0\n",
       "1   roseanne revival catch thorny political mood ...             0\n",
       "2  mom starting fear son  s web series closest th...             1\n",
       "3  boehner want wife listen come alternative debt...             1\n",
       "4  j k  rowling wish snape happy birthday magical...             0"
      ]
     },
     "execution_count": 11,
     "metadata": {},
     "output_type": "execute_result"
    }
   ],
   "source": [
    "data[\"headline\"] = data[\"headline\"].apply(Process)\n",
    "data.head(5)"
   ]
  },
  {
   "cell_type": "markdown",
   "id": "45ab7d47",
   "metadata": {},
   "source": [
    "# To Categorical \n",
    "## To Make Transform From 1output Label --> Len*Ouput (One Hot Encoder)"
   ]
  },
  {
   "cell_type": "code",
   "execution_count": 12,
   "id": "5915dfb2",
   "metadata": {},
   "outputs": [
    {
     "data": {
      "text/plain": [
       "array([[1., 0.],\n",
       "       [1., 0.],\n",
       "       [0., 1.],\n",
       "       [0., 1.],\n",
       "       [1., 0.]], dtype=float32)"
      ]
     },
     "execution_count": 12,
     "metadata": {},
     "output_type": "execute_result"
    }
   ],
   "source": [
    "label = to_categorical(data[\"is_sarcastic\"], 2)\n",
    "label[:5]"
   ]
  },
  {
   "cell_type": "markdown",
   "id": "b1e57d75",
   "metadata": {},
   "source": [
    "# Make Tokenization"
   ]
  },
  {
   "cell_type": "code",
   "execution_count": 13,
   "id": "4995056d",
   "metadata": {},
   "outputs": [
    {
     "name": "stdout",
     "output_type": "stream",
     "text": [
      "[[1. 0.]\n",
      " [1. 0.]]\n"
     ]
    }
   ],
   "source": [
    "X = data[\"headline\"]\n",
    "Y = label\n",
    "print(Y[:2])"
   ]
  },
  {
   "cell_type": "code",
   "execution_count": 14,
   "id": "9a980d65",
   "metadata": {},
   "outputs": [
    {
     "name": "stdout",
     "output_type": "stream",
     "text": [
      "The Padding Sequance Shape is  -->  (26709, 31)\n"
     ]
    }
   ],
   "source": [
    "tokenize = Tokenizer(oov_token=\"<oov>\")\n",
    "tokenize.fit_on_texts(X)\n",
    "word_idx = tokenize.word_index\n",
    "\n",
    "data_seqence = tokenize.texts_to_sequences(X)\n",
    "pad_seq = pad_sequences(data_seqence, padding=\"pre\", truncating=\"pre\")\n",
    "\n",
    "print(\"The Padding Sequance Shape is  --> \", pad_seq.shape)"
   ]
  },
  {
   "cell_type": "code",
   "execution_count": 15,
   "id": "299bf48a",
   "metadata": {},
   "outputs": [
    {
     "data": {
      "text/plain": [
       "(31, 22041)"
      ]
     },
     "execution_count": 15,
     "metadata": {},
     "output_type": "execute_result"
    }
   ],
   "source": [
    "input_length = max(len(seq) for seq in data_seqence)\n",
    "\n",
    "vocabulary_size = len(word_idx) + 1\n",
    "\n",
    "input_length, vocabulary_size"
   ]
  },
  {
   "cell_type": "markdown",
   "id": "45befe52",
   "metadata": {},
   "source": [
    "# Splitting Data To Training And Testing"
   ]
  },
  {
   "cell_type": "code",
   "execution_count": 16,
   "id": "ecf0f79e",
   "metadata": {},
   "outputs": [],
   "source": [
    "x_train, x_test, y_train, y_test = train_test_split(pad_seq, label, train_size=0.7)"
   ]
  },
  {
   "cell_type": "markdown",
   "id": "ef291af7",
   "metadata": {},
   "source": [
    "# Building Deep Learning Model"
   ]
  },
  {
   "cell_type": "code",
   "execution_count": 17,
   "id": "3f1aa062",
   "metadata": {},
   "outputs": [],
   "source": [
    "model = k.models.Sequential([\n",
    "    Embedding(vocabulary_size, 50, input_length=input_length),\n",
    "    GlobalAveragePooling1D(),\n",
    "    Dense(48, activation=\"relu\"), \n",
    "    Dense(2, activation=\"softmax\")\n",
    "])\n",
    "\n",
    "model.compile(optimizer=\"adam\", loss=k.losses.BinaryCrossentropy(), metrics=[\"accuracy\"])"
   ]
  },
  {
   "cell_type": "code",
   "execution_count": 18,
   "id": "23b603ed",
   "metadata": {
    "scrolled": true
   },
   "outputs": [
    {
     "name": "stdout",
     "output_type": "stream",
     "text": [
      "Epoch 1/20\n",
      "585/585 - 3s - loss: 0.6068 - accuracy: 0.6525 - val_loss: 0.4910 - val_accuracy: 0.7504 - 3s/epoch - 6ms/step\n",
      "Epoch 2/20\n",
      "585/585 - 2s - loss: 0.3638 - accuracy: 0.8401 - val_loss: 0.4330 - val_accuracy: 0.7970 - 2s/epoch - 3ms/step\n",
      "Epoch 3/20\n",
      "585/585 - 2s - loss: 0.2525 - accuracy: 0.8978 - val_loss: 0.4708 - val_accuracy: 0.7935 - 2s/epoch - 3ms/step\n",
      "Epoch 4/20\n",
      "585/585 - 2s - loss: 0.1868 - accuracy: 0.9275 - val_loss: 0.5176 - val_accuracy: 0.7913 - 2s/epoch - 3ms/step\n",
      "Epoch 5/20\n",
      "585/585 - 2s - loss: 0.1399 - accuracy: 0.9492 - val_loss: 0.6061 - val_accuracy: 0.7839 - 2s/epoch - 3ms/step\n",
      "Epoch 6/20\n",
      "585/585 - 2s - loss: 0.1084 - accuracy: 0.9626 - val_loss: 0.6631 - val_accuracy: 0.7860 - 2s/epoch - 3ms/step\n",
      "Epoch 7/20\n",
      "585/585 - 2s - loss: 0.0848 - accuracy: 0.9721 - val_loss: 0.7437 - val_accuracy: 0.7792 - 2s/epoch - 3ms/step\n",
      "Epoch 8/20\n",
      "585/585 - 2s - loss: 0.0670 - accuracy: 0.9788 - val_loss: 0.8342 - val_accuracy: 0.7775 - 2s/epoch - 3ms/step\n",
      "Epoch 9/20\n",
      "585/585 - 2s - loss: 0.0543 - accuracy: 0.9826 - val_loss: 0.9090 - val_accuracy: 0.7756 - 2s/epoch - 3ms/step\n",
      "Epoch 10/20\n",
      "585/585 - 2s - loss: 0.0448 - accuracy: 0.9864 - val_loss: 0.9995 - val_accuracy: 0.7670 - 2s/epoch - 3ms/step\n",
      "Epoch 11/20\n",
      "585/585 - 2s - loss: 0.0385 - accuracy: 0.9886 - val_loss: 1.0765 - val_accuracy: 0.7676 - 2s/epoch - 3ms/step\n",
      "Epoch 12/20\n",
      "585/585 - 2s - loss: 0.0321 - accuracy: 0.9909 - val_loss: 1.1522 - val_accuracy: 0.7656 - 2s/epoch - 3ms/step\n",
      "Epoch 13/20\n",
      "585/585 - 2s - loss: 0.0259 - accuracy: 0.9924 - val_loss: 1.2356 - val_accuracy: 0.7624 - 2s/epoch - 3ms/step\n",
      "Epoch 14/20\n",
      "585/585 - 2s - loss: 0.0220 - accuracy: 0.9932 - val_loss: 1.3380 - val_accuracy: 0.7598 - 2s/epoch - 3ms/step\n",
      "Epoch 15/20\n",
      "585/585 - 2s - loss: 0.0190 - accuracy: 0.9945 - val_loss: 1.4075 - val_accuracy: 0.7580 - 2s/epoch - 3ms/step\n",
      "Epoch 16/20\n",
      "585/585 - 2s - loss: 0.0162 - accuracy: 0.9960 - val_loss: 1.4836 - val_accuracy: 0.7575 - 2s/epoch - 3ms/step\n",
      "Epoch 17/20\n",
      "585/585 - 2s - loss: 0.0144 - accuracy: 0.9961 - val_loss: 1.5963 - val_accuracy: 0.7549 - 2s/epoch - 4ms/step\n",
      "Epoch 18/20\n",
      "585/585 - 2s - loss: 0.0133 - accuracy: 0.9967 - val_loss: 1.6158 - val_accuracy: 0.7560 - 2s/epoch - 3ms/step\n",
      "Epoch 19/20\n",
      "585/585 - 2s - loss: 0.0122 - accuracy: 0.9968 - val_loss: 1.7239 - val_accuracy: 0.7528 - 2s/epoch - 3ms/step\n",
      "Epoch 20/20\n",
      "585/585 - 2s - loss: 0.0116 - accuracy: 0.9964 - val_loss: 1.7917 - val_accuracy: 0.7558 - 2s/epoch - 3ms/step\n"
     ]
    }
   ],
   "source": [
    "history = model.fit(x_train, y_train, epochs=20, validation_data=(x_test, y_test), verbose=2)"
   ]
  },
  {
   "cell_type": "code",
   "execution_count": 19,
   "id": "11588275",
   "metadata": {},
   "outputs": [
    {
     "data": {
      "image/png": "[encoded data removed]",
      "text/plain": [
       "<Figure size 640x480 with 1 Axes>"
      ]
     },
     "metadata": {},
     "output_type": "display_data"
    }
   ],
   "source": [
    "plt.plot(history.history[\"loss\"], label=\"Loss\")\n",
    "plt.plot(history.history[\"val_loss\"], label=\"Val_Loss\")\n",
    "\n",
    "plt.xlabel(\"Epochs\")\n",
    "plt.ylabel(\"Loss\")\n",
    "\n",
    "plt.title(\"Loss Vs Epochs\")\n",
    "\n",
    "plt.legend()\n",
    "plt.grid()"
   ]
  },
  {
   "cell_type": "code",
   "execution_count": 20,
   "id": "5277fdae",
   "metadata": {},
   "outputs": [
    {
     "data": {
      "image/png": "[encoded data removed]",
      "text/plain": [
       "<Figure size 640x480 with 1 Axes>"
      ]
     },
     "metadata": {},
     "output_type": "display_data"
    }
   ],
   "source": [
    "plt.plot(history.history[\"accuracy\"], label=\"accuracy\")\n",
    "plt.plot(history.history[\"val_accuracy\"], label=\"val_accuracy\")\n",
    "\n",
    "plt.xlabel(\"Epochs\")\n",
    "plt.ylabel(\"Accuracy\")\n",
    "\n",
    "plt.title(\"Accuracy Vs Epochs\")\n",
    "\n",
    "plt.legend()\n",
    "plt.grid()"
   ]
  },
  {
   "cell_type": "markdown",
   "id": "0e80d891",
   "metadata": {},
   "source": [
    "# System Prediction"
   ]
  },
  {
   "cell_type": "code",
   "execution_count": 22,
   "id": "59bbbc2c",
   "metadata": {},
   "outputs": [
    {
     "name": "stdout",
     "output_type": "stream",
     "text": [
      "former versace store clerk sues over secret 'black code' for minority shoppers\n",
      "former versace store clerk sue secret 'black code minority shopper \n",
      "1/1 [==============================] - 0s 15ms/step\n",
      "[9.9999964e-01 4.0140853e-07]\n",
      "This Massage is -->  is_sarcastic \n"
     ]
    }
   ],
   "source": [
    "text = word_tokenize(input())\n",
    "\n",
    "new_text = \"\"\n",
    "for word in text:\n",
    "    if (word not in stop_words) and (word not in punc):\n",
    "        new_text += lemma.lemmatize(word)\n",
    "        new_text += \" \"\n",
    "        \n",
    "print(new_text)\n",
    "test_sequace = tokenize.texts_to_sequences([new_text])\n",
    "test_padding = pad_sequences(test_sequace, maxlen=31, padding=\"pre\", truncating=\"pre\")\n",
    "\n",
    "\n",
    "# test_sequace\n",
    "prediction = model.predict(test_padding)\n",
    "\n",
    "print(prediction[0])\n",
    "if np.argmax(prediction) == 0: print(\"This Massage is -->  is_sarcastic \")\n",
    "else: print(\"This Massage is -->  not is_sarcastic \")"
   ]
  },
  {
   "cell_type": "markdown",
   "id": "90a7aafb",
   "metadata": {},
   "source": [
    "# Download Model"
   ]
  },
  {
   "cell_type": "code",
   "execution_count": 23,
   "id": "48522347",
   "metadata": {},
   "outputs": [
    {
     "name": "stdout",
     "output_type": "stream",
     "text": [
      "INFO:tensorflow:Assets written to: ram://c5a423ca-0a67-4ea4-93ab-cfaf10a47cf2/assets\n"
     ]
    }
   ],
   "source": [
    "pickle.dump(model, open(r\"D:\\Pycharm\\model_pickle\\NLP - Models\\\\Sarcasm Detection.bin\", \"wb\"))"
   ]
  },
  {
   "cell_type": "code",
   "execution_count": null,
   "id": "873c7afe",
   "metadata": {},
   "outputs": [],
   "source": []
  }
 ],
 "metadata": {
  "kernelspec": {
   "display_name": "Python 3 (ipykernel)",
   "language": "python",
   "name": "python3"
  },
  "language_info": {
   "codemirror_mode": {
    "name": "ipython",
    "version": 3
   },
   "file_extension": ".py",
   "mimetype": "text/x-python",
   "name": "python",
   "nbconvert_exporter": "python",
   "pygments_lexer": "ipython3",
   "version": "3.10.9"
  }
 },
 "nbformat": 4,
 "nbformat_minor": 5
}
